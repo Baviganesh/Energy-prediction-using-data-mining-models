{
 "cells": [
  {
   "cell_type": "markdown",
   "metadata": {
    "id": "_y3mO6-IyySB"
   },
   "source": [
    "# **Energy consumption prediction for Steel Industry**"
   ]
  },
  {
   "cell_type": "markdown",
   "metadata": {
    "id": "_NTWtyPMzQqg"
   },
   "source": [
    "### **Description:**\n",
    "Predicting electricity consumption of DAEWOO Steel Co. Ltd in Gwangyang, South Korea.This dataset contains 11 attributes and 35040 values.\n"
   ]
  },
  {
   "cell_type": "markdown",
   "metadata": {
    "id": "Tzo--JbH2vVT"
   },
   "source": [
    "### **Attribute Information:**\n",
    "* 1.Data Variables \n",
    "* 2.Industry Energy Consumption \n",
    "* 3.Lagging Current reactive power \n",
    "* 4.Leading Current reactive power \n",
    "* 5.tCO2(CO2) \n",
    "* 6.Lagging Current power factor \n",
    "* 7.Leading Current Power factor\n",
    "* 8.Number of Seconds from midnight \n",
    "* 9.Week status Categorical (Weekend (0) or a Weekday(1))\n",
    "* 10.Day of week\n",
    "* 11.Load Type Categorical -Light Load, Medium Load, Maximum Load\n"
   ]
  },
  {
   "cell_type": "markdown",
   "metadata": {
    "id": "R79_A7VNHHpH"
   },
   "source": [
    "## 1. Retrieving Data"
   ]
  },
  {
   "cell_type": "code",
   "execution_count": 1,
   "metadata": {
    "id": "bJo7PH18wxtZ"
   },
   "outputs": [],
   "source": [
    "#Importing dependancies for data processing \n",
    "import pandas as pd\n",
    "import numpy as np\n",
    "import warnings\n",
    "warnings.filterwarnings('ignore')\n"
   ]
  },
  {
   "cell_type": "code",
   "execution_count": 2,
   "metadata": {
    "colab": {
     "base_uri": "https://localhost:8080/",
     "height": 73
    },
    "id": "rGQ9VVN72D0W",
    "outputId": "777ba240-d87c-4b10-cf63-0b2017c778cc"
   },
   "outputs": [
    {
     "data": {
      "text/html": [
       "\n",
       "     <input type=\"file\" id=\"files-50ab3c36-4c7d-432b-b474-d86fb1ae56c7\" name=\"files[]\" multiple disabled\n",
       "        style=\"border:none\" />\n",
       "     <output id=\"result-50ab3c36-4c7d-432b-b474-d86fb1ae56c7\">\n",
       "      Upload widget is only available when the cell has been executed in the\n",
       "      current browser session. Please rerun this cell to enable.\n",
       "      </output>\n",
       "      <script>// Copyright 2017 Google LLC\n",
       "//\n",
       "// Licensed under the Apache License, Version 2.0 (the \"License\");\n",
       "// you may not use this file except in compliance with the License.\n",
       "// You may obtain a copy of the License at\n",
       "//\n",
       "//      http://www.apache.org/licenses/LICENSE-2.0\n",
       "//\n",
       "// Unless required by applicable law or agreed to in writing, software\n",
       "// distributed under the License is distributed on an \"AS IS\" BASIS,\n",
       "// WITHOUT WARRANTIES OR CONDITIONS OF ANY KIND, either express or implied.\n",
       "// See the License for the specific language governing permissions and\n",
       "// limitations under the License.\n",
       "\n",
       "/**\n",
       " * @fileoverview Helpers for google.colab Python module.\n",
       " */\n",
       "(function(scope) {\n",
       "function span(text, styleAttributes = {}) {\n",
       "  const element = document.createElement('span');\n",
       "  element.textContent = text;\n",
       "  for (const key of Object.keys(styleAttributes)) {\n",
       "    element.style[key] = styleAttributes[key];\n",
       "  }\n",
       "  return element;\n",
       "}\n",
       "\n",
       "// Max number of bytes which will be uploaded at a time.\n",
       "const MAX_PAYLOAD_SIZE = 100 * 1024;\n",
       "\n",
       "function _uploadFiles(inputId, outputId) {\n",
       "  const steps = uploadFilesStep(inputId, outputId);\n",
       "  const outputElement = document.getElementById(outputId);\n",
       "  // Cache steps on the outputElement to make it available for the next call\n",
       "  // to uploadFilesContinue from Python.\n",
       "  outputElement.steps = steps;\n",
       "\n",
       "  return _uploadFilesContinue(outputId);\n",
       "}\n",
       "\n",
       "// This is roughly an async generator (not supported in the browser yet),\n",
       "// where there are multiple asynchronous steps and the Python side is going\n",
       "// to poll for completion of each step.\n",
       "// This uses a Promise to block the python side on completion of each step,\n",
       "// then passes the result of the previous step as the input to the next step.\n",
       "function _uploadFilesContinue(outputId) {\n",
       "  const outputElement = document.getElementById(outputId);\n",
       "  const steps = outputElement.steps;\n",
       "\n",
       "  const next = steps.next(outputElement.lastPromiseValue);\n",
       "  return Promise.resolve(next.value.promise).then((value) => {\n",
       "    // Cache the last promise value to make it available to the next\n",
       "    // step of the generator.\n",
       "    outputElement.lastPromiseValue = value;\n",
       "    return next.value.response;\n",
       "  });\n",
       "}\n",
       "\n",
       "/**\n",
       " * Generator function which is called between each async step of the upload\n",
       " * process.\n",
       " * @param {string} inputId Element ID of the input file picker element.\n",
       " * @param {string} outputId Element ID of the output display.\n",
       " * @return {!Iterable<!Object>} Iterable of next steps.\n",
       " */\n",
       "function* uploadFilesStep(inputId, outputId) {\n",
       "  const inputElement = document.getElementById(inputId);\n",
       "  inputElement.disabled = false;\n",
       "\n",
       "  const outputElement = document.getElementById(outputId);\n",
       "  outputElement.innerHTML = '';\n",
       "\n",
       "  const pickedPromise = new Promise((resolve) => {\n",
       "    inputElement.addEventListener('change', (e) => {\n",
       "      resolve(e.target.files);\n",
       "    });\n",
       "  });\n",
       "\n",
       "  const cancel = document.createElement('button');\n",
       "  inputElement.parentElement.appendChild(cancel);\n",
       "  cancel.textContent = 'Cancel upload';\n",
       "  const cancelPromise = new Promise((resolve) => {\n",
       "    cancel.onclick = () => {\n",
       "      resolve(null);\n",
       "    };\n",
       "  });\n",
       "\n",
       "  // Wait for the user to pick the files.\n",
       "  const files = yield {\n",
       "    promise: Promise.race([pickedPromise, cancelPromise]),\n",
       "    response: {\n",
       "      action: 'starting',\n",
       "    }\n",
       "  };\n",
       "\n",
       "  cancel.remove();\n",
       "\n",
       "  // Disable the input element since further picks are not allowed.\n",
       "  inputElement.disabled = true;\n",
       "\n",
       "  if (!files) {\n",
       "    return {\n",
       "      response: {\n",
       "        action: 'complete',\n",
       "      }\n",
       "    };\n",
       "  }\n",
       "\n",
       "  for (const file of files) {\n",
       "    const li = document.createElement('li');\n",
       "    li.append(span(file.name, {fontWeight: 'bold'}));\n",
       "    li.append(span(\n",
       "        `(${file.type || 'n/a'}) - ${file.size} bytes, ` +\n",
       "        `last modified: ${\n",
       "            file.lastModifiedDate ? file.lastModifiedDate.toLocaleDateString() :\n",
       "                                    'n/a'} - `));\n",
       "    const percent = span('0% done');\n",
       "    li.appendChild(percent);\n",
       "\n",
       "    outputElement.appendChild(li);\n",
       "\n",
       "    const fileDataPromise = new Promise((resolve) => {\n",
       "      const reader = new FileReader();\n",
       "      reader.onload = (e) => {\n",
       "        resolve(e.target.result);\n",
       "      };\n",
       "      reader.readAsArrayBuffer(file);\n",
       "    });\n",
       "    // Wait for the data to be ready.\n",
       "    let fileData = yield {\n",
       "      promise: fileDataPromise,\n",
       "      response: {\n",
       "        action: 'continue',\n",
       "      }\n",
       "    };\n",
       "\n",
       "    // Use a chunked sending to avoid message size limits. See b/62115660.\n",
       "    let position = 0;\n",
       "    do {\n",
       "      const length = Math.min(fileData.byteLength - position, MAX_PAYLOAD_SIZE);\n",
       "      const chunk = new Uint8Array(fileData, position, length);\n",
       "      position += length;\n",
       "\n",
       "      const base64 = btoa(String.fromCharCode.apply(null, chunk));\n",
       "      yield {\n",
       "        response: {\n",
       "          action: 'append',\n",
       "          file: file.name,\n",
       "          data: base64,\n",
       "        },\n",
       "      };\n",
       "\n",
       "      let percentDone = fileData.byteLength === 0 ?\n",
       "          100 :\n",
       "          Math.round((position / fileData.byteLength) * 100);\n",
       "      percent.textContent = `${percentDone}% done`;\n",
       "\n",
       "    } while (position < fileData.byteLength);\n",
       "  }\n",
       "\n",
       "  // All done.\n",
       "  yield {\n",
       "    response: {\n",
       "      action: 'complete',\n",
       "    }\n",
       "  };\n",
       "}\n",
       "\n",
       "scope.google = scope.google || {};\n",
       "scope.google.colab = scope.google.colab || {};\n",
       "scope.google.colab._files = {\n",
       "  _uploadFiles,\n",
       "  _uploadFilesContinue,\n",
       "};\n",
       "})(self);\n",
       "</script> "
      ],
      "text/plain": [
       "<IPython.core.display.HTML object>"
      ]
     },
     "metadata": {},
     "output_type": "display_data"
    },
    {
     "name": "stdout",
     "output_type": "stream",
     "text": [
      "Saving Steel_industry_data.csv to Steel_industry_data.csv\n"
     ]
    }
   ],
   "source": [
    "from google.colab import files\n",
    "uploaded = files.upload()"
   ]
  },
  {
   "cell_type": "code",
   "execution_count": 3,
   "metadata": {
    "id": "R05WRxc5yLv4"
   },
   "outputs": [],
   "source": [
    "# Loading dataset\n",
    "data = pd.read_csv('Steel_industry_data.csv')"
   ]
  },
  {
   "cell_type": "markdown",
   "metadata": {
    "id": "9adRF6i3oQLN"
   },
   "source": [
    "## 2. Exploratory Data Analysis"
   ]
  },
  {
   "cell_type": "code",
   "execution_count": 4,
   "metadata": {
    "colab": {
     "base_uri": "https://localhost:8080/",
     "height": 0
    },
    "id": "02CQSikfyWOo",
    "outputId": "c7209b37-3923-4a34-afa6-cf423a385236"
   },
   "outputs": [
    {
     "data": {
      "text/plain": [
       "(35040, 11)"
      ]
     },
     "execution_count": 4,
     "metadata": {},
     "output_type": "execute_result"
    }
   ],
   "source": [
    "#Analysing for no.of values\n",
    "data.shape"
   ]
  },
  {
   "cell_type": "code",
   "execution_count": 5,
   "metadata": {
    "colab": {
     "base_uri": "https://localhost:8080/",
     "height": 357
    },
    "id": "8BNnd_RuyehC",
    "outputId": "9c956175-35dc-45f0-f51c-aedda41c5333"
   },
   "outputs": [
    {
     "data": {
      "text/html": [
       "\n",
       "  <div id=\"df-a04bb989-e52d-497b-9cd9-0e7d5f398c52\">\n",
       "    <div class=\"colab-df-container\">\n",
       "      <div>\n",
       "<style scoped>\n",
       "    .dataframe tbody tr th:only-of-type {\n",
       "        vertical-align: middle;\n",
       "    }\n",
       "\n",
       "    .dataframe tbody tr th {\n",
       "        vertical-align: top;\n",
       "    }\n",
       "\n",
       "    .dataframe thead th {\n",
       "        text-align: right;\n",
       "    }\n",
       "</style>\n",
       "<table border=\"1\" class=\"dataframe\">\n",
       "  <thead>\n",
       "    <tr style=\"text-align: right;\">\n",
       "      <th></th>\n",
       "      <th>date</th>\n",
       "      <th>Usage_kWh</th>\n",
       "      <th>Lagging_Current_Reactive.Power_kVarh</th>\n",
       "      <th>Leading_Current_Reactive_Power_kVarh</th>\n",
       "      <th>CO2(tCO2)</th>\n",
       "      <th>Lagging_Current_Power_Factor</th>\n",
       "      <th>Leading_Current_Power_Factor</th>\n",
       "      <th>NSM</th>\n",
       "      <th>WeekStatus</th>\n",
       "      <th>Day_of_week</th>\n",
       "      <th>Load_Type</th>\n",
       "    </tr>\n",
       "  </thead>\n",
       "  <tbody>\n",
       "    <tr>\n",
       "      <th>0</th>\n",
       "      <td>01/01/2018 00:15</td>\n",
       "      <td>3.17</td>\n",
       "      <td>2.95</td>\n",
       "      <td>0.0</td>\n",
       "      <td>0.0</td>\n",
       "      <td>73.21</td>\n",
       "      <td>100.0</td>\n",
       "      <td>900</td>\n",
       "      <td>Weekday</td>\n",
       "      <td>Monday</td>\n",
       "      <td>Light_Load</td>\n",
       "    </tr>\n",
       "    <tr>\n",
       "      <th>1</th>\n",
       "      <td>01/01/2018 00:30</td>\n",
       "      <td>4.00</td>\n",
       "      <td>4.46</td>\n",
       "      <td>0.0</td>\n",
       "      <td>0.0</td>\n",
       "      <td>66.77</td>\n",
       "      <td>100.0</td>\n",
       "      <td>1800</td>\n",
       "      <td>Weekday</td>\n",
       "      <td>Monday</td>\n",
       "      <td>Light_Load</td>\n",
       "    </tr>\n",
       "    <tr>\n",
       "      <th>2</th>\n",
       "      <td>01/01/2018 00:45</td>\n",
       "      <td>3.24</td>\n",
       "      <td>3.28</td>\n",
       "      <td>0.0</td>\n",
       "      <td>0.0</td>\n",
       "      <td>70.28</td>\n",
       "      <td>100.0</td>\n",
       "      <td>2700</td>\n",
       "      <td>Weekday</td>\n",
       "      <td>Monday</td>\n",
       "      <td>Light_Load</td>\n",
       "    </tr>\n",
       "    <tr>\n",
       "      <th>3</th>\n",
       "      <td>01/01/2018 01:00</td>\n",
       "      <td>3.31</td>\n",
       "      <td>3.56</td>\n",
       "      <td>0.0</td>\n",
       "      <td>0.0</td>\n",
       "      <td>68.09</td>\n",
       "      <td>100.0</td>\n",
       "      <td>3600</td>\n",
       "      <td>Weekday</td>\n",
       "      <td>Monday</td>\n",
       "      <td>Light_Load</td>\n",
       "    </tr>\n",
       "    <tr>\n",
       "      <th>4</th>\n",
       "      <td>01/01/2018 01:15</td>\n",
       "      <td>3.82</td>\n",
       "      <td>4.50</td>\n",
       "      <td>0.0</td>\n",
       "      <td>0.0</td>\n",
       "      <td>64.72</td>\n",
       "      <td>100.0</td>\n",
       "      <td>4500</td>\n",
       "      <td>Weekday</td>\n",
       "      <td>Monday</td>\n",
       "      <td>Light_Load</td>\n",
       "    </tr>\n",
       "  </tbody>\n",
       "</table>\n",
       "</div>\n",
       "      <button class=\"colab-df-convert\" onclick=\"convertToInteractive('df-a04bb989-e52d-497b-9cd9-0e7d5f398c52')\"\n",
       "              title=\"Convert this dataframe to an interactive table.\"\n",
       "              style=\"display:none;\">\n",
       "        \n",
       "  <svg xmlns=\"http://www.w3.org/2000/svg\" height=\"24px\"viewBox=\"0 0 24 24\"\n",
       "       width=\"24px\">\n",
       "    <path d=\"M0 0h24v24H0V0z\" fill=\"none\"/>\n",
       "    <path d=\"M18.56 5.44l.94 2.06.94-2.06 2.06-.94-2.06-.94-.94-2.06-.94 2.06-2.06.94zm-11 1L8.5 8.5l.94-2.06 2.06-.94-2.06-.94L8.5 2.5l-.94 2.06-2.06.94zm10 10l.94 2.06.94-2.06 2.06-.94-2.06-.94-.94-2.06-.94 2.06-2.06.94z\"/><path d=\"M17.41 7.96l-1.37-1.37c-.4-.4-.92-.59-1.43-.59-.52 0-1.04.2-1.43.59L10.3 9.45l-7.72 7.72c-.78.78-.78 2.05 0 2.83L4 21.41c.39.39.9.59 1.41.59.51 0 1.02-.2 1.41-.59l7.78-7.78 2.81-2.81c.8-.78.8-2.07 0-2.86zM5.41 20L4 18.59l7.72-7.72 1.47 1.35L5.41 20z\"/>\n",
       "  </svg>\n",
       "      </button>\n",
       "      \n",
       "  <style>\n",
       "    .colab-df-container {\n",
       "      display:flex;\n",
       "      flex-wrap:wrap;\n",
       "      gap: 12px;\n",
       "    }\n",
       "\n",
       "    .colab-df-convert {\n",
       "      background-color: #E8F0FE;\n",
       "      border: none;\n",
       "      border-radius: 50%;\n",
       "      cursor: pointer;\n",
       "      display: none;\n",
       "      fill: #1967D2;\n",
       "      height: 32px;\n",
       "      padding: 0 0 0 0;\n",
       "      width: 32px;\n",
       "    }\n",
       "\n",
       "    .colab-df-convert:hover {\n",
       "      background-color: #E2EBFA;\n",
       "      box-shadow: 0px 1px 2px rgba(60, 64, 67, 0.3), 0px 1px 3px 1px rgba(60, 64, 67, 0.15);\n",
       "      fill: #174EA6;\n",
       "    }\n",
       "\n",
       "    [theme=dark] .colab-df-convert {\n",
       "      background-color: #3B4455;\n",
       "      fill: #D2E3FC;\n",
       "    }\n",
       "\n",
       "    [theme=dark] .colab-df-convert:hover {\n",
       "      background-color: #434B5C;\n",
       "      box-shadow: 0px 1px 3px 1px rgba(0, 0, 0, 0.15);\n",
       "      filter: drop-shadow(0px 1px 2px rgba(0, 0, 0, 0.3));\n",
       "      fill: #FFFFFF;\n",
       "    }\n",
       "  </style>\n",
       "\n",
       "      <script>\n",
       "        const buttonEl =\n",
       "          document.querySelector('#df-a04bb989-e52d-497b-9cd9-0e7d5f398c52 button.colab-df-convert');\n",
       "        buttonEl.style.display =\n",
       "          google.colab.kernel.accessAllowed ? 'block' : 'none';\n",
       "\n",
       "        async function convertToInteractive(key) {\n",
       "          const element = document.querySelector('#df-a04bb989-e52d-497b-9cd9-0e7d5f398c52');\n",
       "          const dataTable =\n",
       "            await google.colab.kernel.invokeFunction('convertToInteractive',\n",
       "                                                     [key], {});\n",
       "          if (!dataTable) return;\n",
       "\n",
       "          const docLinkHtml = 'Like what you see? Visit the ' +\n",
       "            '<a target=\"_blank\" href=https://colab.research.google.com/notebooks/data_table.ipynb>data table notebook</a>'\n",
       "            + ' to learn more about interactive tables.';\n",
       "          element.innerHTML = '';\n",
       "          dataTable['output_type'] = 'display_data';\n",
       "          await google.colab.output.renderOutput(dataTable, element);\n",
       "          const docLink = document.createElement('div');\n",
       "          docLink.innerHTML = docLinkHtml;\n",
       "          element.appendChild(docLink);\n",
       "        }\n",
       "      </script>\n",
       "    </div>\n",
       "  </div>\n",
       "  "
      ],
      "text/plain": [
       "               date  Usage_kWh  Lagging_Current_Reactive.Power_kVarh  \\\n",
       "0  01/01/2018 00:15       3.17                                  2.95   \n",
       "1  01/01/2018 00:30       4.00                                  4.46   \n",
       "2  01/01/2018 00:45       3.24                                  3.28   \n",
       "3  01/01/2018 01:00       3.31                                  3.56   \n",
       "4  01/01/2018 01:15       3.82                                  4.50   \n",
       "\n",
       "   Leading_Current_Reactive_Power_kVarh  CO2(tCO2)  \\\n",
       "0                                   0.0        0.0   \n",
       "1                                   0.0        0.0   \n",
       "2                                   0.0        0.0   \n",
       "3                                   0.0        0.0   \n",
       "4                                   0.0        0.0   \n",
       "\n",
       "   Lagging_Current_Power_Factor  Leading_Current_Power_Factor   NSM  \\\n",
       "0                         73.21                         100.0   900   \n",
       "1                         66.77                         100.0  1800   \n",
       "2                         70.28                         100.0  2700   \n",
       "3                         68.09                         100.0  3600   \n",
       "4                         64.72                         100.0  4500   \n",
       "\n",
       "  WeekStatus Day_of_week   Load_Type  \n",
       "0    Weekday      Monday  Light_Load  \n",
       "1    Weekday      Monday  Light_Load  \n",
       "2    Weekday      Monday  Light_Load  \n",
       "3    Weekday      Monday  Light_Load  \n",
       "4    Weekday      Monday  Light_Load  "
      ]
     },
     "execution_count": 5,
     "metadata": {},
     "output_type": "execute_result"
    }
   ],
   "source": [
    "#Inspecting the structure and contents of Dataframe\n",
    "data.head()"
   ]
  },
  {
   "cell_type": "code",
   "execution_count": 6,
   "metadata": {
    "colab": {
     "base_uri": "https://localhost:8080/",
     "height": 357
    },
    "id": "Vy7mO7ZH4Dkm",
    "outputId": "2958055e-50de-4c19-9fc6-62f4458162d4"
   },
   "outputs": [
    {
     "data": {
      "text/html": [
       "\n",
       "  <div id=\"df-16c1d9a5-8678-4e0a-a9d9-fa7539e3af8c\">\n",
       "    <div class=\"colab-df-container\">\n",
       "      <div>\n",
       "<style scoped>\n",
       "    .dataframe tbody tr th:only-of-type {\n",
       "        vertical-align: middle;\n",
       "    }\n",
       "\n",
       "    .dataframe tbody tr th {\n",
       "        vertical-align: top;\n",
       "    }\n",
       "\n",
       "    .dataframe thead th {\n",
       "        text-align: right;\n",
       "    }\n",
       "</style>\n",
       "<table border=\"1\" class=\"dataframe\">\n",
       "  <thead>\n",
       "    <tr style=\"text-align: right;\">\n",
       "      <th></th>\n",
       "      <th>date</th>\n",
       "      <th>Usage_kWh</th>\n",
       "      <th>Lagging_Current_Reactive.Power_kVarh</th>\n",
       "      <th>Leading_Current_Reactive_Power_kVarh</th>\n",
       "      <th>CO2(tCO2)</th>\n",
       "      <th>Lagging_Current_Power_Factor</th>\n",
       "      <th>Leading_Current_Power_Factor</th>\n",
       "      <th>NSM</th>\n",
       "      <th>WeekStatus</th>\n",
       "      <th>Day_of_week</th>\n",
       "      <th>Load_Type</th>\n",
       "    </tr>\n",
       "  </thead>\n",
       "  <tbody>\n",
       "    <tr>\n",
       "      <th>0</th>\n",
       "      <td>01/01/2018 00:15</td>\n",
       "      <td>3.17</td>\n",
       "      <td>2.95</td>\n",
       "      <td>0.0</td>\n",
       "      <td>0.0</td>\n",
       "      <td>73.21</td>\n",
       "      <td>100.0</td>\n",
       "      <td>900</td>\n",
       "      <td>Weekday</td>\n",
       "      <td>Monday</td>\n",
       "      <td>Light_Load</td>\n",
       "    </tr>\n",
       "    <tr>\n",
       "      <th>1</th>\n",
       "      <td>01/01/2018 00:30</td>\n",
       "      <td>4.00</td>\n",
       "      <td>4.46</td>\n",
       "      <td>0.0</td>\n",
       "      <td>0.0</td>\n",
       "      <td>66.77</td>\n",
       "      <td>100.0</td>\n",
       "      <td>1800</td>\n",
       "      <td>Weekday</td>\n",
       "      <td>Monday</td>\n",
       "      <td>Light_Load</td>\n",
       "    </tr>\n",
       "    <tr>\n",
       "      <th>2</th>\n",
       "      <td>01/01/2018 00:45</td>\n",
       "      <td>3.24</td>\n",
       "      <td>3.28</td>\n",
       "      <td>0.0</td>\n",
       "      <td>0.0</td>\n",
       "      <td>70.28</td>\n",
       "      <td>100.0</td>\n",
       "      <td>2700</td>\n",
       "      <td>Weekday</td>\n",
       "      <td>Monday</td>\n",
       "      <td>Light_Load</td>\n",
       "    </tr>\n",
       "    <tr>\n",
       "      <th>3</th>\n",
       "      <td>01/01/2018 01:00</td>\n",
       "      <td>3.31</td>\n",
       "      <td>3.56</td>\n",
       "      <td>0.0</td>\n",
       "      <td>0.0</td>\n",
       "      <td>68.09</td>\n",
       "      <td>100.0</td>\n",
       "      <td>3600</td>\n",
       "      <td>Weekday</td>\n",
       "      <td>Monday</td>\n",
       "      <td>Light_Load</td>\n",
       "    </tr>\n",
       "    <tr>\n",
       "      <th>4</th>\n",
       "      <td>01/01/2018 01:15</td>\n",
       "      <td>3.82</td>\n",
       "      <td>4.50</td>\n",
       "      <td>0.0</td>\n",
       "      <td>0.0</td>\n",
       "      <td>64.72</td>\n",
       "      <td>100.0</td>\n",
       "      <td>4500</td>\n",
       "      <td>Weekday</td>\n",
       "      <td>Monday</td>\n",
       "      <td>Light_Load</td>\n",
       "    </tr>\n",
       "  </tbody>\n",
       "</table>\n",
       "</div>\n",
       "      <button class=\"colab-df-convert\" onclick=\"convertToInteractive('df-16c1d9a5-8678-4e0a-a9d9-fa7539e3af8c')\"\n",
       "              title=\"Convert this dataframe to an interactive table.\"\n",
       "              style=\"display:none;\">\n",
       "        \n",
       "  <svg xmlns=\"http://www.w3.org/2000/svg\" height=\"24px\"viewBox=\"0 0 24 24\"\n",
       "       width=\"24px\">\n",
       "    <path d=\"M0 0h24v24H0V0z\" fill=\"none\"/>\n",
       "    <path d=\"M18.56 5.44l.94 2.06.94-2.06 2.06-.94-2.06-.94-.94-2.06-.94 2.06-2.06.94zm-11 1L8.5 8.5l.94-2.06 2.06-.94-2.06-.94L8.5 2.5l-.94 2.06-2.06.94zm10 10l.94 2.06.94-2.06 2.06-.94-2.06-.94-.94-2.06-.94 2.06-2.06.94z\"/><path d=\"M17.41 7.96l-1.37-1.37c-.4-.4-.92-.59-1.43-.59-.52 0-1.04.2-1.43.59L10.3 9.45l-7.72 7.72c-.78.78-.78 2.05 0 2.83L4 21.41c.39.39.9.59 1.41.59.51 0 1.02-.2 1.41-.59l7.78-7.78 2.81-2.81c.8-.78.8-2.07 0-2.86zM5.41 20L4 18.59l7.72-7.72 1.47 1.35L5.41 20z\"/>\n",
       "  </svg>\n",
       "      </button>\n",
       "      \n",
       "  <style>\n",
       "    .colab-df-container {\n",
       "      display:flex;\n",
       "      flex-wrap:wrap;\n",
       "      gap: 12px;\n",
       "    }\n",
       "\n",
       "    .colab-df-convert {\n",
       "      background-color: #E8F0FE;\n",
       "      border: none;\n",
       "      border-radius: 50%;\n",
       "      cursor: pointer;\n",
       "      display: none;\n",
       "      fill: #1967D2;\n",
       "      height: 32px;\n",
       "      padding: 0 0 0 0;\n",
       "      width: 32px;\n",
       "    }\n",
       "\n",
       "    .colab-df-convert:hover {\n",
       "      background-color: #E2EBFA;\n",
       "      box-shadow: 0px 1px 2px rgba(60, 64, 67, 0.3), 0px 1px 3px 1px rgba(60, 64, 67, 0.15);\n",
       "      fill: #174EA6;\n",
       "    }\n",
       "\n",
       "    [theme=dark] .colab-df-convert {\n",
       "      background-color: #3B4455;\n",
       "      fill: #D2E3FC;\n",
       "    }\n",
       "\n",
       "    [theme=dark] .colab-df-convert:hover {\n",
       "      background-color: #434B5C;\n",
       "      box-shadow: 0px 1px 3px 1px rgba(0, 0, 0, 0.15);\n",
       "      filter: drop-shadow(0px 1px 2px rgba(0, 0, 0, 0.3));\n",
       "      fill: #FFFFFF;\n",
       "    }\n",
       "  </style>\n",
       "\n",
       "      <script>\n",
       "        const buttonEl =\n",
       "          document.querySelector('#df-16c1d9a5-8678-4e0a-a9d9-fa7539e3af8c button.colab-df-convert');\n",
       "        buttonEl.style.display =\n",
       "          google.colab.kernel.accessAllowed ? 'block' : 'none';\n",
       "\n",
       "        async function convertToInteractive(key) {\n",
       "          const element = document.querySelector('#df-16c1d9a5-8678-4e0a-a9d9-fa7539e3af8c');\n",
       "          const dataTable =\n",
       "            await google.colab.kernel.invokeFunction('convertToInteractive',\n",
       "                                                     [key], {});\n",
       "          if (!dataTable) return;\n",
       "\n",
       "          const docLinkHtml = 'Like what you see? Visit the ' +\n",
       "            '<a target=\"_blank\" href=https://colab.research.google.com/notebooks/data_table.ipynb>data table notebook</a>'\n",
       "            + ' to learn more about interactive tables.';\n",
       "          element.innerHTML = '';\n",
       "          dataTable['output_type'] = 'display_data';\n",
       "          await google.colab.output.renderOutput(dataTable, element);\n",
       "          const docLink = document.createElement('div');\n",
       "          docLink.innerHTML = docLinkHtml;\n",
       "          element.appendChild(docLink);\n",
       "        }\n",
       "      </script>\n",
       "    </div>\n",
       "  </div>\n",
       "  "
      ],
      "text/plain": [
       "               date  Usage_kWh  Lagging_Current_Reactive.Power_kVarh  \\\n",
       "0  01/01/2018 00:15       3.17                                  2.95   \n",
       "1  01/01/2018 00:30       4.00                                  4.46   \n",
       "2  01/01/2018 00:45       3.24                                  3.28   \n",
       "3  01/01/2018 01:00       3.31                                  3.56   \n",
       "4  01/01/2018 01:15       3.82                                  4.50   \n",
       "\n",
       "   Leading_Current_Reactive_Power_kVarh  CO2(tCO2)  \\\n",
       "0                                   0.0        0.0   \n",
       "1                                   0.0        0.0   \n",
       "2                                   0.0        0.0   \n",
       "3                                   0.0        0.0   \n",
       "4                                   0.0        0.0   \n",
       "\n",
       "   Lagging_Current_Power_Factor  Leading_Current_Power_Factor   NSM  \\\n",
       "0                         73.21                         100.0   900   \n",
       "1                         66.77                         100.0  1800   \n",
       "2                         70.28                         100.0  2700   \n",
       "3                         68.09                         100.0  3600   \n",
       "4                         64.72                         100.0  4500   \n",
       "\n",
       "  WeekStatus Day_of_week   Load_Type  \n",
       "0    Weekday      Monday  Light_Load  \n",
       "1    Weekday      Monday  Light_Load  \n",
       "2    Weekday      Monday  Light_Load  \n",
       "3    Weekday      Monday  Light_Load  \n",
       "4    Weekday      Monday  Light_Load  "
      ]
     },
     "execution_count": 6,
     "metadata": {},
     "output_type": "execute_result"
    }
   ],
   "source": [
    "#Inspecting the structure and contents of Dataframe\n",
    "data.head()"
   ]
  },
  {
   "cell_type": "code",
   "execution_count": 7,
   "metadata": {
    "colab": {
     "base_uri": "https://localhost:8080/",
     "height": 0
    },
    "id": "o3qTr9GAgkrX",
    "outputId": "c80fb631-d770-49bd-e0ef-b65bdd6db268"
   },
   "outputs": [
    {
     "data": {
      "text/plain": [
       "date                                    0\n",
       "Usage_kWh                               0\n",
       "Lagging_Current_Reactive.Power_kVarh    0\n",
       "Leading_Current_Reactive_Power_kVarh    0\n",
       "CO2(tCO2)                               0\n",
       "Lagging_Current_Power_Factor            0\n",
       "Leading_Current_Power_Factor            0\n",
       "NSM                                     0\n",
       "WeekStatus                              0\n",
       "Day_of_week                             0\n",
       "Load_Type                               0\n",
       "dtype: int64"
      ]
     },
     "execution_count": 7,
     "metadata": {},
     "output_type": "execute_result"
    }
   ],
   "source": [
    "#Displaying the number of null or missing values in Dataframe\n",
    "data.isnull().sum()"
   ]
  },
  {
   "cell_type": "code",
   "execution_count": 8,
   "metadata": {
    "colab": {
     "base_uri": "https://localhost:8080/",
     "height": 0
    },
    "id": "jLKPbH0FgB5y",
    "outputId": "8e8f7cec-168d-42e9-80cd-9a88fa0195f7"
   },
   "outputs": [
    {
     "data": {
      "text/plain": [
       "date                                    35040\n",
       "Usage_kWh                                3343\n",
       "Lagging_Current_Reactive.Power_kVarh     1954\n",
       "Leading_Current_Reactive_Power_kVarh      768\n",
       "CO2(tCO2)                                   8\n",
       "Lagging_Current_Power_Factor             5079\n",
       "Leading_Current_Power_Factor             3366\n",
       "NSM                                        96\n",
       "WeekStatus                                  2\n",
       "Day_of_week                                 7\n",
       "Load_Type                                   3\n",
       "dtype: int64"
      ]
     },
     "execution_count": 8,
     "metadata": {},
     "output_type": "execute_result"
    }
   ],
   "source": [
    "#Assessing  number of unique values in each column of a DataFrame\n",
    "data.nunique()"
   ]
  },
  {
   "cell_type": "code",
   "execution_count": 9,
   "metadata": {
    "colab": {
     "base_uri": "https://localhost:8080/",
     "height": 333
    },
    "id": "721_BxbW4m_6",
    "outputId": "e143fd1a-8c29-4007-984b-ea863ce2e624"
   },
   "outputs": [
    {
     "data": {
      "text/html": [
       "\n",
       "  <div id=\"df-95a97116-581e-42f1-b1f9-af4631bb3ddd\">\n",
       "    <div class=\"colab-df-container\">\n",
       "      <div>\n",
       "<style scoped>\n",
       "    .dataframe tbody tr th:only-of-type {\n",
       "        vertical-align: middle;\n",
       "    }\n",
       "\n",
       "    .dataframe tbody tr th {\n",
       "        vertical-align: top;\n",
       "    }\n",
       "\n",
       "    .dataframe thead th {\n",
       "        text-align: right;\n",
       "    }\n",
       "</style>\n",
       "<table border=\"1\" class=\"dataframe\">\n",
       "  <thead>\n",
       "    <tr style=\"text-align: right;\">\n",
       "      <th></th>\n",
       "      <th>Usage_kWh</th>\n",
       "      <th>Lagging_Current_Reactive.Power_kVarh</th>\n",
       "      <th>Leading_Current_Reactive_Power_kVarh</th>\n",
       "      <th>CO2(tCO2)</th>\n",
       "      <th>Lagging_Current_Power_Factor</th>\n",
       "      <th>Leading_Current_Power_Factor</th>\n",
       "      <th>NSM</th>\n",
       "    </tr>\n",
       "  </thead>\n",
       "  <tbody>\n",
       "    <tr>\n",
       "      <th>Usage_kWh</th>\n",
       "      <td>1.000000</td>\n",
       "      <td>0.896150</td>\n",
       "      <td>-0.324922</td>\n",
       "      <td>0.988180</td>\n",
       "      <td>0.385960</td>\n",
       "      <td>0.353566</td>\n",
       "      <td>0.234610</td>\n",
       "    </tr>\n",
       "    <tr>\n",
       "      <th>Lagging_Current_Reactive.Power_kVarh</th>\n",
       "      <td>0.896150</td>\n",
       "      <td>1.000000</td>\n",
       "      <td>-0.405142</td>\n",
       "      <td>0.886948</td>\n",
       "      <td>0.144534</td>\n",
       "      <td>0.407716</td>\n",
       "      <td>0.082662</td>\n",
       "    </tr>\n",
       "    <tr>\n",
       "      <th>Leading_Current_Reactive_Power_kVarh</th>\n",
       "      <td>-0.324922</td>\n",
       "      <td>-0.405142</td>\n",
       "      <td>1.000000</td>\n",
       "      <td>-0.332777</td>\n",
       "      <td>0.526770</td>\n",
       "      <td>-0.944039</td>\n",
       "      <td>0.371605</td>\n",
       "    </tr>\n",
       "    <tr>\n",
       "      <th>CO2(tCO2)</th>\n",
       "      <td>0.988180</td>\n",
       "      <td>0.886948</td>\n",
       "      <td>-0.332777</td>\n",
       "      <td>1.000000</td>\n",
       "      <td>0.379605</td>\n",
       "      <td>0.360019</td>\n",
       "      <td>0.231726</td>\n",
       "    </tr>\n",
       "    <tr>\n",
       "      <th>Lagging_Current_Power_Factor</th>\n",
       "      <td>0.385960</td>\n",
       "      <td>0.144534</td>\n",
       "      <td>0.526770</td>\n",
       "      <td>0.379605</td>\n",
       "      <td>1.000000</td>\n",
       "      <td>-0.519967</td>\n",
       "      <td>0.565270</td>\n",
       "    </tr>\n",
       "    <tr>\n",
       "      <th>Leading_Current_Power_Factor</th>\n",
       "      <td>0.353566</td>\n",
       "      <td>0.407716</td>\n",
       "      <td>-0.944039</td>\n",
       "      <td>0.360019</td>\n",
       "      <td>-0.519967</td>\n",
       "      <td>1.000000</td>\n",
       "      <td>-0.360563</td>\n",
       "    </tr>\n",
       "    <tr>\n",
       "      <th>NSM</th>\n",
       "      <td>0.234610</td>\n",
       "      <td>0.082662</td>\n",
       "      <td>0.371605</td>\n",
       "      <td>0.231726</td>\n",
       "      <td>0.565270</td>\n",
       "      <td>-0.360563</td>\n",
       "      <td>1.000000</td>\n",
       "    </tr>\n",
       "  </tbody>\n",
       "</table>\n",
       "</div>\n",
       "      <button class=\"colab-df-convert\" onclick=\"convertToInteractive('df-95a97116-581e-42f1-b1f9-af4631bb3ddd')\"\n",
       "              title=\"Convert this dataframe to an interactive table.\"\n",
       "              style=\"display:none;\">\n",
       "        \n",
       "  <svg xmlns=\"http://www.w3.org/2000/svg\" height=\"24px\"viewBox=\"0 0 24 24\"\n",
       "       width=\"24px\">\n",
       "    <path d=\"M0 0h24v24H0V0z\" fill=\"none\"/>\n",
       "    <path d=\"M18.56 5.44l.94 2.06.94-2.06 2.06-.94-2.06-.94-.94-2.06-.94 2.06-2.06.94zm-11 1L8.5 8.5l.94-2.06 2.06-.94-2.06-.94L8.5 2.5l-.94 2.06-2.06.94zm10 10l.94 2.06.94-2.06 2.06-.94-2.06-.94-.94-2.06-.94 2.06-2.06.94z\"/><path d=\"M17.41 7.96l-1.37-1.37c-.4-.4-.92-.59-1.43-.59-.52 0-1.04.2-1.43.59L10.3 9.45l-7.72 7.72c-.78.78-.78 2.05 0 2.83L4 21.41c.39.39.9.59 1.41.59.51 0 1.02-.2 1.41-.59l7.78-7.78 2.81-2.81c.8-.78.8-2.07 0-2.86zM5.41 20L4 18.59l7.72-7.72 1.47 1.35L5.41 20z\"/>\n",
       "  </svg>\n",
       "      </button>\n",
       "      \n",
       "  <style>\n",
       "    .colab-df-container {\n",
       "      display:flex;\n",
       "      flex-wrap:wrap;\n",
       "      gap: 12px;\n",
       "    }\n",
       "\n",
       "    .colab-df-convert {\n",
       "      background-color: #E8F0FE;\n",
       "      border: none;\n",
       "      border-radius: 50%;\n",
       "      cursor: pointer;\n",
       "      display: none;\n",
       "      fill: #1967D2;\n",
       "      height: 32px;\n",
       "      padding: 0 0 0 0;\n",
       "      width: 32px;\n",
       "    }\n",
       "\n",
       "    .colab-df-convert:hover {\n",
       "      background-color: #E2EBFA;\n",
       "      box-shadow: 0px 1px 2px rgba(60, 64, 67, 0.3), 0px 1px 3px 1px rgba(60, 64, 67, 0.15);\n",
       "      fill: #174EA6;\n",
       "    }\n",
       "\n",
       "    [theme=dark] .colab-df-convert {\n",
       "      background-color: #3B4455;\n",
       "      fill: #D2E3FC;\n",
       "    }\n",
       "\n",
       "    [theme=dark] .colab-df-convert:hover {\n",
       "      background-color: #434B5C;\n",
       "      box-shadow: 0px 1px 3px 1px rgba(0, 0, 0, 0.15);\n",
       "      filter: drop-shadow(0px 1px 2px rgba(0, 0, 0, 0.3));\n",
       "      fill: #FFFFFF;\n",
       "    }\n",
       "  </style>\n",
       "\n",
       "      <script>\n",
       "        const buttonEl =\n",
       "          document.querySelector('#df-95a97116-581e-42f1-b1f9-af4631bb3ddd button.colab-df-convert');\n",
       "        buttonEl.style.display =\n",
       "          google.colab.kernel.accessAllowed ? 'block' : 'none';\n",
       "\n",
       "        async function convertToInteractive(key) {\n",
       "          const element = document.querySelector('#df-95a97116-581e-42f1-b1f9-af4631bb3ddd');\n",
       "          const dataTable =\n",
       "            await google.colab.kernel.invokeFunction('convertToInteractive',\n",
       "                                                     [key], {});\n",
       "          if (!dataTable) return;\n",
       "\n",
       "          const docLinkHtml = 'Like what you see? Visit the ' +\n",
       "            '<a target=\"_blank\" href=https://colab.research.google.com/notebooks/data_table.ipynb>data table notebook</a>'\n",
       "            + ' to learn more about interactive tables.';\n",
       "          element.innerHTML = '';\n",
       "          dataTable['output_type'] = 'display_data';\n",
       "          await google.colab.output.renderOutput(dataTable, element);\n",
       "          const docLink = document.createElement('div');\n",
       "          docLink.innerHTML = docLinkHtml;\n",
       "          element.appendChild(docLink);\n",
       "        }\n",
       "      </script>\n",
       "    </div>\n",
       "  </div>\n",
       "  "
      ],
      "text/plain": [
       "                                      Usage_kWh  \\\n",
       "Usage_kWh                              1.000000   \n",
       "Lagging_Current_Reactive.Power_kVarh   0.896150   \n",
       "Leading_Current_Reactive_Power_kVarh  -0.324922   \n",
       "CO2(tCO2)                              0.988180   \n",
       "Lagging_Current_Power_Factor           0.385960   \n",
       "Leading_Current_Power_Factor           0.353566   \n",
       "NSM                                    0.234610   \n",
       "\n",
       "                                      Lagging_Current_Reactive.Power_kVarh  \\\n",
       "Usage_kWh                                                         0.896150   \n",
       "Lagging_Current_Reactive.Power_kVarh                              1.000000   \n",
       "Leading_Current_Reactive_Power_kVarh                             -0.405142   \n",
       "CO2(tCO2)                                                         0.886948   \n",
       "Lagging_Current_Power_Factor                                      0.144534   \n",
       "Leading_Current_Power_Factor                                      0.407716   \n",
       "NSM                                                               0.082662   \n",
       "\n",
       "                                      Leading_Current_Reactive_Power_kVarh  \\\n",
       "Usage_kWh                                                        -0.324922   \n",
       "Lagging_Current_Reactive.Power_kVarh                             -0.405142   \n",
       "Leading_Current_Reactive_Power_kVarh                              1.000000   \n",
       "CO2(tCO2)                                                        -0.332777   \n",
       "Lagging_Current_Power_Factor                                      0.526770   \n",
       "Leading_Current_Power_Factor                                     -0.944039   \n",
       "NSM                                                               0.371605   \n",
       "\n",
       "                                      CO2(tCO2)  Lagging_Current_Power_Factor  \\\n",
       "Usage_kWh                              0.988180                      0.385960   \n",
       "Lagging_Current_Reactive.Power_kVarh   0.886948                      0.144534   \n",
       "Leading_Current_Reactive_Power_kVarh  -0.332777                      0.526770   \n",
       "CO2(tCO2)                              1.000000                      0.379605   \n",
       "Lagging_Current_Power_Factor           0.379605                      1.000000   \n",
       "Leading_Current_Power_Factor           0.360019                     -0.519967   \n",
       "NSM                                    0.231726                      0.565270   \n",
       "\n",
       "                                      Leading_Current_Power_Factor       NSM  \n",
       "Usage_kWh                                                 0.353566  0.234610  \n",
       "Lagging_Current_Reactive.Power_kVarh                      0.407716  0.082662  \n",
       "Leading_Current_Reactive_Power_kVarh                     -0.944039  0.371605  \n",
       "CO2(tCO2)                                                 0.360019  0.231726  \n",
       "Lagging_Current_Power_Factor                             -0.519967  0.565270  \n",
       "Leading_Current_Power_Factor                              1.000000 -0.360563  \n",
       "NSM                                                      -0.360563  1.000000  "
      ]
     },
     "execution_count": 9,
     "metadata": {},
     "output_type": "execute_result"
    }
   ],
   "source": [
    "#Calculating the correlation coefficients between all pairs of numeric columns in a DataFrame for identifying patterns and relationships in the data\n",
    "data.corr()"
   ]
  },
  {
   "cell_type": "code",
   "execution_count": 10,
   "metadata": {
    "id": "HMBDqHWQ5D4u"
   },
   "outputs": [],
   "source": [
    "#Importing dependancies for data visualization \n",
    "import matplotlib.pyplot as plt\n",
    "import seaborn as sns\n",
    "import plotly.express as px\n",
    "import plotly.graph_objects as go\n",
    "%matplotlib inline\n",
    "sns.set_style('darkgrid')"
   ]
  },
  {
   "cell_type": "markdown",
   "metadata": {
    "id": "y-oU60FWHHpQ"
   },
   "source": [
    "#### EDA Chart 1: Vizualization of frequency of usage of different load types"
   ]
  },
  {
   "cell_type": "markdown",
   "metadata": {
    "id": "ZsOHBYiWHHpR"
   },
   "source": [
    "The sns.countplot function in Seaborn is used to visualize the frequency of unique values in a categorical column and pie plot with percentage labels is also shown"
   ]
  },
  {
   "cell_type": "code",
   "execution_count": 11,
   "metadata": {
    "colab": {
     "base_uri": "https://localhost:8080/",
     "height": 475
    },
    "id": "9vNDCzYtHHpR",
    "outputId": "17028912-d21f-4589-ed98-5e368d101d6c"
   },
   "outputs": [
    {
     "data": {
      "image/png": "[encoded data removed]",
      "text/plain": [
       "<Figure size 2000x800 with 2 Axes>"
      ]
     },
     "metadata": {},
     "output_type": "display_data"
    }
   ],
   "source": [
    "# Using seaborn library to assign 'Yellow-Green-Blue' palette to different load types\n",
    "sns.set_palette('YlGnBu')\n",
    "\n",
    "# Defining figure size using Matplotlib\n",
    "plt.figure(figsize=(20,8))\n",
    "\n",
    "\n",
    "# Subplot 1: frequency distribution of Load type in form of bar plot \n",
    "axs_bar = plt.subplot(1,2,1)\n",
    "axs_bar = sns.countplot(x = 'Load_Type', data = data)\n",
    "\n",
    "\n",
    "# Subplot 2: frequency distribution of Load type in form of pie chart\n",
    "axs_pie =plt.subplot(1,2,2)\n",
    "axs_pie=data['Load_Type'].value_counts().plot.pie(explode=[0.1, 0.1,0.1],autopct='%1.2f%%',shadow=True);\n"
   ]
  },
  {
   "cell_type": "markdown",
   "metadata": {
    "id": "mEWO5q0aHHpS"
   },
   "source": [
    "###### Conclusion: \n",
    "The vizualization shows that Light_Load has highest frequency (51.58%) among different types of load, followed by Medium_Load (27.67%) and Maximum_Load (20.75%) has lowest frequency."
   ]
  },
  {
   "cell_type": "markdown",
   "metadata": {
    "id": "fkW8HGpoHHpS"
   },
   "source": [
    "#### EDA Chart 2: Vizualization of frequency of usage of different load types on different days of week"
   ]
  },
  {
   "cell_type": "markdown",
   "metadata": {
    "id": "cUedpN_qH8GI"
   },
   "source": [
    "Citation: GeeksforGeeks. “Exploratory Data Analysis in Python.” GeeksforGeeks, 26 Apr. 2022, www.geeksforgeeks.org/exploratory-data-analysis-in-python."
   ]
  },
  {
   "cell_type": "code",
   "execution_count": 12,
   "metadata": {
    "colab": {
     "base_uri": "https://localhost:8080/",
     "height": 400
    },
    "id": "wP_FktxdHHpS",
    "outputId": "1af23622-5d14-4ceb-ad1b-765bed07e3ec"
   },
   "outputs": [
    {
     "data": {
      "image/png": "[encoded data removed]",
      "text/plain": [
       "<Figure size 2400x800 with 2 Axes>"
      ]
     },
     "metadata": {},
     "output_type": "display_data"
    }
   ],
   "source": [
    "# We will continue using same palette of 'YlGnBu' for different load types to maintain symmetry\n",
    "\n",
    "# Defining figure size using Matplotlib\n",
    "plt.figure(figsize=(24,8))\n",
    "\n",
    "# Subplot 1: frequency distribution of variation in load usage on week days and weekends using bar plot\n",
    "plt.subplot(1,2,1)\n",
    "sns.countplot(data=data, x=\"WeekStatus\", hue=\"Load_Type\")\n",
    "\n",
    "# Subplot 2: frequency distribution of variation in load usage on different days using bar plot\n",
    "plt.subplot(1,2,2)\n",
    "sns.countplot(data=data, x=\"Day_of_week\", hue=\"Load_Type\")\n",
    "\n",
    "plt.show()"
   ]
  },
  {
   "cell_type": "markdown",
   "metadata": {
    "id": "JngnRzb3HHpT"
   },
   "source": [
    "###### Conclusion: \n",
    "* The first plot shows that weekdays have higher freqency than weekends.\n",
    "* The second plot shows that: \n",
    "     * Light_Load frequency is high on weekends (highest on Sundays) and constant for weekdays\n",
    "     * Medium_Load frequency and Maximum_Load frequency are low on weekends (lowest on Sundays) and constant for weekdays\n",
    "* Both the plots show that for any given time or day of the week, Light_Load has highest frequency, followed by Medium_Load and Maximum_Load has lowest freqency  "
   ]
  },
  {
   "cell_type": "markdown",
   "metadata": {
    "id": "lCqPtwSpHHpU"
   },
   "source": [
    "#### EDA Chart 3: Correlation Heat Map"
   ]
  },
  {
   "cell_type": "code",
   "execution_count": 13,
   "metadata": {
    "colab": {
     "base_uri": "https://localhost:8080/",
     "height": 1000
    },
    "id": "9_id_jaZ6qXv",
    "outputId": "30f8160b-3118-4d1c-c97c-9e325b120b03"
   },
   "outputs": [
    {
     "data": {
      "text/plain": [
       "<Axes: >"
      ]
     },
     "execution_count": 13,
     "metadata": {},
     "output_type": "execute_result"
    },
    {
     "data": {
      "image/png": "[encoded data removed]",
      "text/plain": [
       "<Figure size 1000x1000 with 2 Axes>"
      ]
     },
     "metadata": {},
     "output_type": "display_data"
    }
   ],
   "source": [
    "#Visualizing corrrealtion \n",
    "plt.figure(figsize=(10,10))\n",
    "sns.heatmap(data.corr(),annot=True)"
   ]
  },
  {
   "cell_type": "markdown",
   "metadata": {
    "id": "I3LEH1ypHHpV"
   },
   "source": [
    "###### Conclusion: \n",
    "From the correlation graph, it can be observed that lagging current reactive power is directly proportional to usage, leading to greater energy consumption. This usage is also highly correlated with tCO2, resulting in increased emission of CO2 that is detrimental to the environment. Receiving more power from the source, lagging reactive power has a high correlation with tCO2, thus causing a rise in CO2 emission."
   ]
  },
  {
   "cell_type": "markdown",
   "metadata": {
    "id": "jzM1GugPHHpV"
   },
   "source": [
    "#### EDA Chart 4: Box Plots for numerical variables"
   ]
  },
  {
   "cell_type": "code",
   "execution_count": 14,
   "metadata": {
    "colab": {
     "base_uri": "https://localhost:8080/",
     "height": 1000
    },
    "id": "jCtErOK3sCKU",
    "outputId": "42580bb2-2c0a-4ee5-e102-2c7f53ce0ee3"
   },
   "outputs": [
    {
     "name": "stdout",
     "output_type": "stream",
     "text": [
      "\n",
      "Box Plots\n",
      "\n"
     ]
    },
    {
     "data": {
      "image/png": "[encoded data removed]",
      "text/plain": [
       "<Figure size 1000x300 with 2 Axes>"
      ]
     },
     "metadata": {},
     "output_type": "display_data"
    },
    {
     "data": {
      "image/png": "[encoded data removed]",
      "text/plain": [
       "<Figure size 1000x300 with 2 Axes>"
      ]
     },
     "metadata": {},
     "output_type": "display_data"
    },
    {
     "data": {
      "image/png": "[encoded data removed]",
      "text/plain": [
       "<Figure size 1000x300 with 2 Axes>"
      ]
     },
     "metadata": {},
     "output_type": "display_data"
    },
    {
     "data": {
      "image/png": "[encoded data removed]",
      "text/plain": [
       "<Figure size 640x480 with 1 Axes>"
      ]
     },
     "metadata": {},
     "output_type": "display_data"
    }
   ],
   "source": [
    "# Creating box plots to identify skewness in data and indentify outliers\n",
    "def box_plots(dataframe):\n",
    "    numeric_col = dataframe.select_dtypes(include=['number']).columns.tolist()\n",
    "    dataframe = dataframe[numeric_col]\n",
    "    \n",
    "    for i in range(0,len(numeric_col),2):\n",
    "        if len(numeric_col) > i+1:\n",
    "            plt.figure(figsize=(10,3))\n",
    "            plt.subplot(121)\n",
    "            sns.boxplot(dataframe[numeric_col[i]])\n",
    "            plt.subplot(122)            \n",
    "            sns.boxplot(dataframe[numeric_col[i+1]])\n",
    "            plt.tight_layout()\n",
    "            plt.show()\n",
    "\n",
    "        else:\n",
    "            sns.boxplot(dataframe[numeric_col[i]])\n",
    "          \n",
    "        \n",
    "print('\\nBox Plots\\n')\n",
    "box_plots(data)\n"
   ]
  },
  {
   "cell_type": "markdown",
   "metadata": {
    "id": "UM6OBcfcsHjK"
   },
   "source": [
    "###### Conclusion: \n",
    "In the above box plots, It can see that there are outlier in all features except NSM."
   ]
  },
  {
   "cell_type": "markdown",
   "metadata": {
    "id": "rYNYALHkHHpX"
   },
   "source": [
    "## 3. Data Pre Processing"
   ]
  },
  {
   "cell_type": "markdown",
   "metadata": {
    "id": "DMqOSDdeHHpX"
   },
   "source": [
    "### 3.1 Data Cleaning/Data Wrangling"
   ]
  },
  {
   "cell_type": "markdown",
   "metadata": {
    "id": "8hoZnRicHHpY"
   },
   "source": [
    "<b> Examining the data to identify any missing values, outliers, or errors. </b>"
   ]
  },
  {
   "cell_type": "code",
   "execution_count": 15,
   "metadata": {
    "colab": {
     "base_uri": "https://localhost:8080/",
     "height": 0
    },
    "id": "aKdn2Bi9HHpY",
    "outputId": "92eab327-77cd-486d-dd53-8e10bd8c70d1"
   },
   "outputs": [
    {
     "name": "stdout",
     "output_type": "stream",
     "text": [
      "date                                    0\n",
      "Usage_kWh                               0\n",
      "Lagging_Current_Reactive.Power_kVarh    0\n",
      "Leading_Current_Reactive_Power_kVarh    0\n",
      "CO2(tCO2)                               0\n",
      "Lagging_Current_Power_Factor            0\n",
      "Leading_Current_Power_Factor            0\n",
      "NSM                                     0\n",
      "WeekStatus                              0\n",
      "Day_of_week                             0\n",
      "Load_Type                               0\n",
      "dtype: int64\n",
      "          Usage_kWh  Lagging_Current_Reactive.Power_kVarh  \\\n",
      "count  35040.000000                          35040.000000   \n",
      "mean      27.386892                             13.035384   \n",
      "std       33.444380                             16.306000   \n",
      "min        0.000000                              0.000000   \n",
      "25%        3.200000                              2.300000   \n",
      "50%        4.570000                              5.000000   \n",
      "75%       51.237500                             22.640000   \n",
      "max      157.180000                             96.910000   \n",
      "\n",
      "       Leading_Current_Reactive_Power_kVarh     CO2(tCO2)  \\\n",
      "count                          35040.000000  35040.000000   \n",
      "mean                               3.870949      0.011524   \n",
      "std                                7.424463      0.016151   \n",
      "min                                0.000000      0.000000   \n",
      "25%                                0.000000      0.000000   \n",
      "50%                                0.000000      0.000000   \n",
      "75%                                2.090000      0.020000   \n",
      "max                               27.760000      0.070000   \n",
      "\n",
      "       Lagging_Current_Power_Factor  Leading_Current_Power_Factor  \\\n",
      "count                  35040.000000                  35040.000000   \n",
      "mean                      80.578056                     84.367870   \n",
      "std                       18.921322                     30.456535   \n",
      "min                        0.000000                      0.000000   \n",
      "25%                       63.320000                     99.700000   \n",
      "50%                       87.960000                    100.000000   \n",
      "75%                       99.022500                    100.000000   \n",
      "max                      100.000000                    100.000000   \n",
      "\n",
      "                NSM  \n",
      "count  35040.000000  \n",
      "mean   42750.000000  \n",
      "std    24940.534317  \n",
      "min        0.000000  \n",
      "25%    21375.000000  \n",
      "50%    42750.000000  \n",
      "75%    64125.000000  \n",
      "max    85500.000000  \n"
     ]
    }
   ],
   "source": [
    "\n",
    "print(data.isnull().sum()) # check for missing values\n",
    "print(data.describe()) # summary statistics"
   ]
  },
  {
   "cell_type": "markdown",
   "metadata": {
    "id": "GCF4hGvgLVTC"
   },
   "source": [
    "### 3.2 Data Imputation"
   ]
  },
  {
   "cell_type": "markdown",
   "metadata": {
    "id": "7BwaZv03HHpZ"
   },
   "source": [
    "Missing values are initially filled using a simple imputation method such as mean, median, or mode.As we already identified our dataset doesn't contain any null or missing values , we are performing data imputation while treating the outliers in our data"
   ]
  },
  {
   "cell_type": "markdown",
   "metadata": {
    "id": "ustqyc3rHHpZ"
   },
   "source": [
    "### 3.3 Outlier Detection and Management"
   ]
  },
  {
   "cell_type": "markdown",
   "metadata": {
    "id": "KTC1DveuHHpZ"
   },
   "source": [
    "##### 3.3.1 Outlier Detection"
   ]
  },
  {
   "cell_type": "code",
   "execution_count": 16,
   "metadata": {
    "id": "mEQFoQ_CHHpa"
   },
   "outputs": [],
   "source": [
    "#Making a copy of the original dataframe before performing operations like feature engineering/data cleaning\n",
    "new_data = data.copy()"
   ]
  },
  {
   "cell_type": "code",
   "execution_count": 17,
   "metadata": {
    "colab": {
     "base_uri": "https://localhost:8080/",
     "height": 0
    },
    "id": "POFqE1hhHHpa",
    "outputId": "9bb0c25f-020c-415b-a9ff-e13e69bf9722"
   },
   "outputs": [
    {
     "data": {
      "text/plain": [
       "(35040, 11)"
      ]
     },
     "execution_count": 17,
     "metadata": {},
     "output_type": "execute_result"
    }
   ],
   "source": [
    "#Checking the dimensions of the data before applying transformations or cleaning,and verifying that data has been loaded correctly\n",
    "new_data.shape"
   ]
  },
  {
   "cell_type": "code",
   "execution_count": 18,
   "metadata": {
    "id": "YgrlW6_IHHpb"
   },
   "outputs": [],
   "source": [
    "#Selecting columns which is of numeric datatype for identifying outliers in the dataset\n",
    "column = ['Usage_kWh', 'Lagging_Current_Reactive.Power_kVarh',\n",
    "       'Leading_Current_Reactive_Power_kVarh', 'CO2(tCO2)',\n",
    "       'Lagging_Current_Power_Factor', 'Leading_Current_Power_Factor']"
   ]
  },
  {
   "cell_type": "markdown",
   "metadata": {
    "id": "ey2nk_qrIe19"
   },
   "source": [
    "Citation: Bonthu, Harika. “Detecting and Treating Outliers | Treating the Odd One Out!” Analytics Vidhya, 30 Nov. 2022, https://www.analyticsvidhya.com/blog/2021/05/detecting-and-treating-outliers-treating-the-odd-one-out/. "
   ]
  },
  {
   "cell_type": "code",
   "execution_count": 19,
   "metadata": {
    "id": "9Bdr4b9THHpb"
   },
   "outputs": [],
   "source": [
    "#Using IQR function for handling numeric data in dataframe in order to identify and remove outliers from dataset \n",
    "def out_null(column):\n",
    "        IQR=column.quantile(0.75)-column.quantile(0.25)\n",
    "        UL=column.quantile(0.75)+1.5*IQR\n",
    "        LL=column.quantile(0.25)-1.5*IQR\n",
    "        column.where(column.between(LL,UL),np.nan,inplace=True)"
   ]
  },
  {
   "cell_type": "code",
   "execution_count": 20,
   "metadata": {
    "id": "6iHMxRABHHpb"
   },
   "outputs": [],
   "source": [
    "#Replacing any values in the column that are outside the upper and lower limits with NaN values, where the limits are calculated using IQR \n",
    "for i in column:\n",
    "    out_null(new_data[i])"
   ]
  },
  {
   "cell_type": "code",
   "execution_count": 21,
   "metadata": {
    "colab": {
     "base_uri": "https://localhost:8080/",
     "height": 0
    },
    "id": "nSsfwuGUHHpc",
    "outputId": "649ba696-a8be-4e6d-b1b1-14675ad139c0",
    "scrolled": false
   },
   "outputs": [
    {
     "data": {
      "text/plain": [
       "date                                       0\n",
       "Usage_kWh                                328\n",
       "Lagging_Current_Reactive.Power_kVarh    1059\n",
       "Leading_Current_Reactive_Power_kVarh    7759\n",
       "CO2(tCO2)                                437\n",
       "Lagging_Current_Power_Factor               1\n",
       "Leading_Current_Power_Factor            8327\n",
       "NSM                                        0\n",
       "WeekStatus                                 0\n",
       "Day_of_week                                0\n",
       "Load_Type                                  0\n",
       "dtype: int64"
      ]
     },
     "execution_count": 21,
     "metadata": {},
     "output_type": "execute_result"
    }
   ],
   "source": [
    "#Checking for any missing or NaN values in the new DataFrame for cleaning and preparing the data, as it removes any extreme values and identifies any missing data that might need to be imputed\n",
    "new_data.isnull().sum()"
   ]
  },
  {
   "cell_type": "markdown",
   "metadata": {
    "id": "UGSDuo2pHHpc"
   },
   "source": [
    "##### 3.1.1 Outlier Treatment"
   ]
  },
  {
   "cell_type": "code",
   "execution_count": null,
   "metadata": {
    "id": "PIYuzscRHHpd"
   },
   "outputs": [],
   "source": [
    "#Using Multiple imputations by chained equations (MICE) imputation on a pandas DataFrame for handling missing data\n",
    "!pip install impyute\n",
    "\n",
    "from impyute.imputation.cs import mice"
   ]
  },
  {
   "cell_type": "code",
   "execution_count": 23,
   "metadata": {
    "id": "j3rSwZAlHHpd"
   },
   "outputs": [],
   "source": [
    "#Importing dependencies for performing imputation on missing data in a dataset\n",
    "from sklearn.experimental import enable_iterative_imputer\n",
    "from sklearn.impute import IterativeImputer"
   ]
  },
  {
   "cell_type": "markdown",
   "metadata": {
    "id": "BbjSGzoyHHpd"
   },
   "source": [
    "Initializing an IterativeImputer instance with several parameters and fits it to a subset of the new_data DataFrame to impute missing values in the specified columns using an iterative approach."
   ]
  },
  {
   "cell_type": "code",
   "execution_count": 24,
   "metadata": {
    "colab": {
     "base_uri": "https://localhost:8080/",
     "height": 91
    },
    "id": "KwbqN-8-HHpe",
    "outputId": "12618fad-f7a4-4247-fba9-d93cb953295d"
   },
   "outputs": [
    {
     "data": {
      "text/html": [
       "<style>#sk-container-id-1 {color: black;background-color: white;}#sk-container-id-1 pre{padding: 0;}#sk-container-id-1 div.sk-toggleable {background-color: white;}#sk-container-id-1 label.sk-toggleable__label {cursor: pointer;display: block;width: 100%;margin-bottom: 0;padding: 0.3em;box-sizing: border-box;text-align: center;}#sk-container-id-1 label.sk-toggleable__label-arrow:before {content: \"▸\";float: left;margin-right: 0.25em;color: #696969;}#sk-container-id-1 label.sk-toggleable__label-arrow:hover:before {color: black;}#sk-container-id-1 div.sk-estimator:hover label.sk-toggleable__label-arrow:before {color: black;}#sk-container-id-1 div.sk-toggleable__content {max-height: 0;max-width: 0;overflow: hidden;text-align: left;background-color: #f0f8ff;}#sk-container-id-1 div.sk-toggleable__content pre {margin: 0.2em;color: black;border-radius: 0.25em;background-color: #f0f8ff;}#sk-container-id-1 input.sk-toggleable__control:checked~div.sk-toggleable__content {max-height: 200px;max-width: 100%;overflow: auto;}#sk-container-id-1 input.sk-toggleable__control:checked~label.sk-toggleable__label-arrow:before {content: \"▾\";}#sk-container-id-1 div.sk-estimator input.sk-toggleable__control:checked~label.sk-toggleable__label {background-color: #d4ebff;}#sk-container-id-1 div.sk-label input.sk-toggleable__control:checked~label.sk-toggleable__label {background-color: #d4ebff;}#sk-container-id-1 input.sk-hidden--visually {border: 0;clip: rect(1px 1px 1px 1px);clip: rect(1px, 1px, 1px, 1px);height: 1px;margin: -1px;overflow: hidden;padding: 0;position: absolute;width: 1px;}#sk-container-id-1 div.sk-estimator {font-family: monospace;background-color: #f0f8ff;border: 1px dotted black;border-radius: 0.25em;box-sizing: border-box;margin-bottom: 0.5em;}#sk-container-id-1 div.sk-estimator:hover {background-color: #d4ebff;}#sk-container-id-1 div.sk-parallel-item::after {content: \"\";width: 100%;border-bottom: 1px solid gray;flex-grow: 1;}#sk-container-id-1 div.sk-label:hover label.sk-toggleable__label {background-color: #d4ebff;}#sk-container-id-1 div.sk-serial::before {content: \"\";position: absolute;border-left: 1px solid gray;box-sizing: border-box;top: 0;bottom: 0;left: 50%;z-index: 0;}#sk-container-id-1 div.sk-serial {display: flex;flex-direction: column;align-items: center;background-color: white;padding-right: 0.2em;padding-left: 0.2em;position: relative;}#sk-container-id-1 div.sk-item {position: relative;z-index: 1;}#sk-container-id-1 div.sk-parallel {display: flex;align-items: stretch;justify-content: center;background-color: white;position: relative;}#sk-container-id-1 div.sk-item::before, #sk-container-id-1 div.sk-parallel-item::before {content: \"\";position: absolute;border-left: 1px solid gray;box-sizing: border-box;top: 0;bottom: 0;left: 50%;z-index: -1;}#sk-container-id-1 div.sk-parallel-item {display: flex;flex-direction: column;z-index: 1;position: relative;background-color: white;}#sk-container-id-1 div.sk-parallel-item:first-child::after {align-self: flex-end;width: 50%;}#sk-container-id-1 div.sk-parallel-item:last-child::after {align-self: flex-start;width: 50%;}#sk-container-id-1 div.sk-parallel-item:only-child::after {width: 0;}#sk-container-id-1 div.sk-dashed-wrapped {border: 1px dashed gray;margin: 0 0.4em 0.5em 0.4em;box-sizing: border-box;padding-bottom: 0.4em;background-color: white;}#sk-container-id-1 div.sk-label label {font-family: monospace;font-weight: bold;display: inline-block;line-height: 1.2em;}#sk-container-id-1 div.sk-label-container {text-align: center;}#sk-container-id-1 div.sk-container {/* jupyter's `normalize.less` sets `[hidden] { display: none; }` but bootstrap.min.css set `[hidden] { display: none !important; }` so we also need the `!important` here to be able to override the default hidden behavior on the sphinx rendered scikit-learn.org. See: https://github.com/scikit-learn/scikit-learn/issues/21755 */display: inline-block !important;position: relative;}#sk-container-id-1 div.sk-text-repr-fallback {display: none;}</style><div id=\"sk-container-id-1\" class=\"sk-top-container\"><div class=\"sk-text-repr-fallback\"><pre>IterativeImputer(imputation_order=&#x27;random&#x27;, initial_strategy=&#x27;median&#x27;,\n",
       "                 max_iter=50, random_state=42, skip_complete=True)</pre><b>In a Jupyter environment, please rerun this cell to show the HTML representation or trust the notebook. <br />On GitHub, the HTML representation is unable to render, please try loading this page with nbviewer.org.</b></div><div class=\"sk-container\" hidden><div class=\"sk-item\"><div class=\"sk-estimator sk-toggleable\"><input class=\"sk-toggleable__control sk-hidden--visually\" id=\"sk-estimator-id-1\" type=\"checkbox\" checked><label for=\"sk-estimator-id-1\" class=\"sk-toggleable__label sk-toggleable__label-arrow\">IterativeImputer</label><div class=\"sk-toggleable__content\"><pre>IterativeImputer(imputation_order=&#x27;random&#x27;, initial_strategy=&#x27;median&#x27;,\n",
       "                 max_iter=50, random_state=42, skip_complete=True)</pre></div></div></div></div></div>"
      ],
      "text/plain": [
       "IterativeImputer(imputation_order='random', initial_strategy='median',\n",
       "                 max_iter=50, random_state=42, skip_complete=True)"
      ]
     },
     "execution_count": 24,
     "metadata": {},
     "output_type": "execute_result"
    }
   ],
   "source": [
    "# Initializing an IterativeImputer instance\n",
    "mice_imputer = IterativeImputer(max_iter=50, random_state=42, initial_strategy='median', imputation_order='random', skip_complete=True)\n",
    "mice_imputer.fit(new_data[column])"
   ]
  },
  {
   "cell_type": "code",
   "execution_count": 25,
   "metadata": {
    "id": "Gp4h0K6pHHpe"
   },
   "outputs": [],
   "source": [
    "# Imputing numerical columns with MICE imputer\n",
    "new_data[column] = mice_imputer.transform(new_data[column])"
   ]
  },
  {
   "cell_type": "markdown",
   "metadata": {
    "id": "lUtBT_WFHHpe"
   },
   "source": [
    "Replaced the missing values in the subset with imputed values generated by the IterativeImputer instance."
   ]
  },
  {
   "cell_type": "code",
   "execution_count": 26,
   "metadata": {
    "colab": {
     "base_uri": "https://localhost:8080/",
     "height": 0
    },
    "id": "pzyR6qOXHHpf",
    "outputId": "9c21b0e6-7aa6-4a0c-a2c1-0097e41531b7"
   },
   "outputs": [
    {
     "data": {
      "text/plain": [
       "Index(['date', 'Usage_kWh', 'Lagging_Current_Reactive.Power_kVarh',\n",
       "       'Leading_Current_Reactive_Power_kVarh', 'CO2(tCO2)',\n",
       "       'Lagging_Current_Power_Factor', 'Leading_Current_Power_Factor', 'NSM',\n",
       "       'WeekStatus', 'Day_of_week', 'Load_Type'],\n",
       "      dtype='object')"
      ]
     },
     "execution_count": 26,
     "metadata": {},
     "output_type": "execute_result"
    }
   ],
   "source": [
    "# Displaying column names of copy of dataframe\n",
    "new_data.columns"
   ]
  },
  {
   "cell_type": "code",
   "execution_count": 27,
   "metadata": {
    "id": "claXr2DCHHpf"
   },
   "outputs": [],
   "source": [
    "# Saving changes in original database\n",
    "data = new_data"
   ]
  },
  {
   "cell_type": "code",
   "execution_count": 28,
   "metadata": {
    "colab": {
     "base_uri": "https://localhost:8080/",
     "height": 0
    },
    "id": "cKDdq7W1HHpf",
    "outputId": "282558d6-92b4-4102-8c85-2248699d53ac"
   },
   "outputs": [
    {
     "data": {
      "text/plain": [
       "(35040, 11)"
      ]
     },
     "execution_count": 28,
     "metadata": {},
     "output_type": "execute_result"
    }
   ],
   "source": [
    "data.shape"
   ]
  },
  {
   "cell_type": "code",
   "execution_count": 29,
   "metadata": {
    "colab": {
     "base_uri": "https://localhost:8080/",
     "height": 0
    },
    "id": "GR_1t3-THHpg",
    "outputId": "1540758d-fb94-4c62-bb71-e86a82f7f6ec"
   },
   "outputs": [
    {
     "data": {
      "text/plain": [
       "date                                    0\n",
       "Usage_kWh                               0\n",
       "Lagging_Current_Reactive.Power_kVarh    0\n",
       "Leading_Current_Reactive_Power_kVarh    0\n",
       "CO2(tCO2)                               0\n",
       "Lagging_Current_Power_Factor            0\n",
       "Leading_Current_Power_Factor            0\n",
       "NSM                                     0\n",
       "WeekStatus                              0\n",
       "Day_of_week                             0\n",
       "Load_Type                               0\n",
       "dtype: int64"
      ]
     },
     "execution_count": 29,
     "metadata": {},
     "output_type": "execute_result"
    }
   ],
   "source": [
    "# Checking null values to see whether original data is altered\n",
    "data.isnull().sum()"
   ]
  },
  {
   "cell_type": "markdown",
   "metadata": {
    "id": "Yzjgt029HHpg"
   },
   "source": [
    " After performing missing value imputation,the resulting DataFrame contains no missing values, making it suitable for further analysis and modeling.\n",
    " \n",
    "Now Let's check the performance of imputer by checking number of outliers after imputation."
   ]
  },
  {
   "cell_type": "code",
   "execution_count": 30,
   "metadata": {
    "id": "2QuBCfAJHHpg"
   },
   "outputs": [],
   "source": [
    "# Creating a new dataframe so that original dataframe is not altered\n",
    "new_data_check = data.copy()\n",
    "\n",
    "# Replacing any values in the column that are outside the upper and lower limits with NaN values, where the limits are calculated using IQR \n",
    "for i in column:\n",
    "    out_null(new_data_check[i])"
   ]
  },
  {
   "cell_type": "code",
   "execution_count": 31,
   "metadata": {
    "colab": {
     "base_uri": "https://localhost:8080/",
     "height": 0
    },
    "id": "O1Nc1OiMHHph",
    "outputId": "b9696f0f-9427-4ffb-af6f-75e2abfc2a52"
   },
   "outputs": [
    {
     "data": {
      "text/plain": [
       "date                                      0\n",
       "Usage_kWh                                80\n",
       "Lagging_Current_Reactive.Power_kVarh    350\n",
       "Leading_Current_Reactive_Power_kVarh    821\n",
       "CO2(tCO2)                               120\n",
       "Lagging_Current_Power_Factor              0\n",
       "Leading_Current_Power_Factor            935\n",
       "NSM                                       0\n",
       "WeekStatus                                0\n",
       "Day_of_week                               0\n",
       "Load_Type                                 0\n",
       "dtype: int64"
      ]
     },
     "execution_count": 31,
     "metadata": {},
     "output_type": "execute_result"
    }
   ],
   "source": [
    "#Checking for any missing or NaN values in the new DataFrame for cleaning and preparing the data, as it removes any extreme values and identifies any missing data that might need to be imputed\n",
    "new_data_check.isnull().sum()"
   ]
  },
  {
   "cell_type": "markdown",
   "metadata": {
    "id": "0i4YU_5aHHpi"
   },
   "source": [
    "In each iteration, the imputer generates new imputed values based on the previously imputed values, and the process continues until convergence or until a maximum number of iterations is reached.\n",
    "If the imputer is running multiple times on the same dataset, it may result in overfitting, where the imputer fits the imputed values too closely to the observed values, resulting in a loss of generalizability of the imputed values.\n",
    "To prevent the overfitting, creation of bias in data and loss of data, we have done the imputer iteration only once."
   ]
  },
  {
   "cell_type": "code",
   "execution_count": 32,
   "metadata": {
    "colab": {
     "base_uri": "https://localhost:8080/",
     "height": 0
    },
    "id": "0Vr9yE5DHHpi",
    "outputId": "6609e350-4c8f-472c-abd6-b858e1c1fcd4"
   },
   "outputs": [
    {
     "data": {
      "text/plain": [
       "date                                    0\n",
       "Usage_kWh                               0\n",
       "Lagging_Current_Reactive.Power_kVarh    0\n",
       "Leading_Current_Reactive_Power_kVarh    0\n",
       "CO2(tCO2)                               0\n",
       "Lagging_Current_Power_Factor            0\n",
       "Leading_Current_Power_Factor            0\n",
       "NSM                                     0\n",
       "WeekStatus                              0\n",
       "Day_of_week                             0\n",
       "Load_Type                               0\n",
       "dtype: int64"
      ]
     },
     "execution_count": 32,
     "metadata": {},
     "output_type": "execute_result"
    }
   ],
   "source": [
    "# Checking number of null for each feature of the database\n",
    "data.isnull().sum()"
   ]
  },
  {
   "cell_type": "markdown",
   "metadata": {
    "id": "eq_L0buEHHpj"
   },
   "source": [
    "## 4. Data Preparation"
   ]
  },
  {
   "cell_type": "code",
   "execution_count": 33,
   "metadata": {
    "id": "3CEORf62HHpj"
   },
   "outputs": [],
   "source": [
    "#Splitting the dataset into 'X' which is a input feature except 'Usage' column and 'y' which is a target variable 'Usage\" column\n",
    "y = data['Usage_kWh']\n",
    "X = data.drop(['Usage_kWh','date'], axis = 1)"
   ]
  },
  {
   "cell_type": "markdown",
   "metadata": {
    "id": "_fizQLd0HHpk"
   },
   "source": [
    "### 4.1 Feature Engineering"
   ]
  },
  {
   "cell_type": "markdown",
   "metadata": {
    "id": "zejvfvHeHHpk"
   },
   "source": [
    "Using Label Encoding in regression analysis is to enable the regression model to interpret and use categorical variables as input features. It is necessary to convert categorical variables to numeric variables because regression models require continuous numerical input features."
   ]
  },
  {
   "cell_type": "code",
   "execution_count": 34,
   "metadata": {
    "id": "mVErpq9tHHpk"
   },
   "outputs": [],
   "source": [
    "#Importing Labelencoder for interpreting categorical variables\n",
    "from sklearn.preprocessing import LabelEncoder"
   ]
  },
  {
   "cell_type": "markdown",
   "metadata": {
    "id": "HDUUKH-vHHpk"
   },
   "source": [
    "Creating a new DataFrame that contains only the categorical variables, which makes it easier to preprocess these variables separately from the numerical variables inorder to encode them."
   ]
  },
  {
   "cell_type": "code",
   "execution_count": 35,
   "metadata": {
    "id": "qSaiPSi3HHpl"
   },
   "outputs": [],
   "source": [
    "# Creating a new DataFrame that contains only the categorical variables\n",
    "cat_variables = X[['WeekStatus','Day_of_week','Load_Type']]"
   ]
  },
  {
   "cell_type": "code",
   "execution_count": 36,
   "metadata": {
    "id": "qJEVUoHhHHpl"
   },
   "outputs": [],
   "source": [
    "# Initializing label encoder\n",
    "le = LabelEncoder()"
   ]
  },
  {
   "cell_type": "markdown",
   "metadata": {
    "id": "Vc_NJqE0HHpl"
   },
   "source": [
    " The Label Encoder is performing this transformation, by assigning a unique integer to each category in the categorical variable "
   ]
  },
  {
   "cell_type": "code",
   "execution_count": 37,
   "metadata": {
    "id": "kfQ2mzcAHHpm"
   },
   "outputs": [],
   "source": [
    "for col in cat_variables:\n",
    "    X[col] = le.fit_transform(X[col])"
   ]
  },
  {
   "cell_type": "code",
   "execution_count": 38,
   "metadata": {
    "colab": {
     "base_uri": "https://localhost:8080/",
     "height": 0
    },
    "id": "791R6oSDHHpm",
    "outputId": "7f5533d3-fdba-42a3-c572-9570325a8a1e"
   },
   "outputs": [
    {
     "data": {
      "text/plain": [
       "Lagging_Current_Reactive.Power_kVarh    0\n",
       "Leading_Current_Reactive_Power_kVarh    0\n",
       "CO2(tCO2)                               0\n",
       "Lagging_Current_Power_Factor            0\n",
       "Leading_Current_Power_Factor            0\n",
       "NSM                                     0\n",
       "WeekStatus                              0\n",
       "Day_of_week                             0\n",
       "Load_Type                               0\n",
       "dtype: int64"
      ]
     },
     "execution_count": 38,
     "metadata": {},
     "output_type": "execute_result"
    }
   ],
   "source": [
    "#Checking number of null values\n",
    "X.isnull().sum()"
   ]
  },
  {
   "cell_type": "markdown",
   "metadata": {
    "id": "klpTODHFHHpn"
   },
   "source": [
    "### 4.2 Feature Selection/ Extraction"
   ]
  },
  {
   "cell_type": "code",
   "execution_count": 39,
   "metadata": {
    "id": "iwOkHDGLHHpn"
   },
   "outputs": [],
   "source": [
    "# Importing module\n",
    "from sklearn.feature_selection import SelectKBest, f_regression"
   ]
  },
  {
   "cell_type": "markdown",
   "metadata": {
    "id": "yGc8vPbPHHpo"
   },
   "source": [
    "Performing feature selection by selecting the k best features that have the strongest correlation with the target variable based on the f_regression scoring function."
   ]
  },
  {
   "cell_type": "code",
   "execution_count": 40,
   "metadata": {
    "id": "XW-t5wmKHHpo"
   },
   "outputs": [],
   "source": [
    "#Selecting the top 5 features that have the highest correlation with the target variable \n",
    "k = 5\n",
    "selector = SelectKBest(score_func=f_regression, k=k)\n",
    "X_new = selector.fit_transform(X, y)"
   ]
  },
  {
   "cell_type": "code",
   "execution_count": 41,
   "metadata": {
    "colab": {
     "base_uri": "https://localhost:8080/",
     "height": 0
    },
    "id": "0K8SdKVDHHpp",
    "outputId": "188df60b-0779-4807-8ceb-33cc6df6de6f"
   },
   "outputs": [
    {
     "name": "stdout",
     "output_type": "stream",
     "text": [
      "Index(['Lagging_Current_Reactive.Power_kVarh', 'CO2(tCO2)',\n",
      "       'Lagging_Current_Power_Factor', 'WeekStatus', 'Load_Type'],\n",
      "      dtype='object')\n"
     ]
    }
   ],
   "source": [
    "#Identifying which features are the most important predictors for the target variable\n",
    "selected_features = X.columns[selector.get_support()]\n",
    "print(selected_features)"
   ]
  },
  {
   "cell_type": "code",
   "execution_count": 42,
   "metadata": {
    "id": "FxpBN6yAHHpp"
   },
   "outputs": [],
   "source": [
    "# Updating X\n",
    "X = X[['Lagging_Current_Reactive.Power_kVarh', 'CO2(tCO2)', 'Lagging_Current_Power_Factor', 'WeekStatus', 'Load_Type']]"
   ]
  },
  {
   "cell_type": "code",
   "execution_count": 43,
   "metadata": {
    "colab": {
     "base_uri": "https://localhost:8080/",
     "height": 206
    },
    "id": "MxDk1xOlHHpq",
    "outputId": "4cec5647-2c40-4e99-a8fa-4332095c737f"
   },
   "outputs": [
    {
     "data": {
      "text/html": [
       "\n",
       "  <div id=\"df-f61b2935-2db6-4d8b-ada4-6c7c4bcdc272\">\n",
       "    <div class=\"colab-df-container\">\n",
       "      <div>\n",
       "<style scoped>\n",
       "    .dataframe tbody tr th:only-of-type {\n",
       "        vertical-align: middle;\n",
       "    }\n",
       "\n",
       "    .dataframe tbody tr th {\n",
       "        vertical-align: top;\n",
       "    }\n",
       "\n",
       "    .dataframe thead th {\n",
       "        text-align: right;\n",
       "    }\n",
       "</style>\n",
       "<table border=\"1\" class=\"dataframe\">\n",
       "  <thead>\n",
       "    <tr style=\"text-align: right;\">\n",
       "      <th></th>\n",
       "      <th>Lagging_Current_Reactive.Power_kVarh</th>\n",
       "      <th>CO2(tCO2)</th>\n",
       "      <th>Lagging_Current_Power_Factor</th>\n",
       "      <th>WeekStatus</th>\n",
       "      <th>Load_Type</th>\n",
       "    </tr>\n",
       "  </thead>\n",
       "  <tbody>\n",
       "    <tr>\n",
       "      <th>0</th>\n",
       "      <td>2.95</td>\n",
       "      <td>0.0</td>\n",
       "      <td>73.21</td>\n",
       "      <td>0</td>\n",
       "      <td>0</td>\n",
       "    </tr>\n",
       "    <tr>\n",
       "      <th>1</th>\n",
       "      <td>4.46</td>\n",
       "      <td>0.0</td>\n",
       "      <td>66.77</td>\n",
       "      <td>0</td>\n",
       "      <td>0</td>\n",
       "    </tr>\n",
       "    <tr>\n",
       "      <th>2</th>\n",
       "      <td>3.28</td>\n",
       "      <td>0.0</td>\n",
       "      <td>70.28</td>\n",
       "      <td>0</td>\n",
       "      <td>0</td>\n",
       "    </tr>\n",
       "    <tr>\n",
       "      <th>3</th>\n",
       "      <td>3.56</td>\n",
       "      <td>0.0</td>\n",
       "      <td>68.09</td>\n",
       "      <td>0</td>\n",
       "      <td>0</td>\n",
       "    </tr>\n",
       "    <tr>\n",
       "      <th>4</th>\n",
       "      <td>4.50</td>\n",
       "      <td>0.0</td>\n",
       "      <td>64.72</td>\n",
       "      <td>0</td>\n",
       "      <td>0</td>\n",
       "    </tr>\n",
       "  </tbody>\n",
       "</table>\n",
       "</div>\n",
       "      <button class=\"colab-df-convert\" onclick=\"convertToInteractive('df-f61b2935-2db6-4d8b-ada4-6c7c4bcdc272')\"\n",
       "              title=\"Convert this dataframe to an interactive table.\"\n",
       "              style=\"display:none;\">\n",
       "        \n",
       "  <svg xmlns=\"http://www.w3.org/2000/svg\" height=\"24px\"viewBox=\"0 0 24 24\"\n",
       "       width=\"24px\">\n",
       "    <path d=\"M0 0h24v24H0V0z\" fill=\"none\"/>\n",
       "    <path d=\"M18.56 5.44l.94 2.06.94-2.06 2.06-.94-2.06-.94-.94-2.06-.94 2.06-2.06.94zm-11 1L8.5 8.5l.94-2.06 2.06-.94-2.06-.94L8.5 2.5l-.94 2.06-2.06.94zm10 10l.94 2.06.94-2.06 2.06-.94-2.06-.94-.94-2.06-.94 2.06-2.06.94z\"/><path d=\"M17.41 7.96l-1.37-1.37c-.4-.4-.92-.59-1.43-.59-.52 0-1.04.2-1.43.59L10.3 9.45l-7.72 7.72c-.78.78-.78 2.05 0 2.83L4 21.41c.39.39.9.59 1.41.59.51 0 1.02-.2 1.41-.59l7.78-7.78 2.81-2.81c.8-.78.8-2.07 0-2.86zM5.41 20L4 18.59l7.72-7.72 1.47 1.35L5.41 20z\"/>\n",
       "  </svg>\n",
       "      </button>\n",
       "      \n",
       "  <style>\n",
       "    .colab-df-container {\n",
       "      display:flex;\n",
       "      flex-wrap:wrap;\n",
       "      gap: 12px;\n",
       "    }\n",
       "\n",
       "    .colab-df-convert {\n",
       "      background-color: #E8F0FE;\n",
       "      border: none;\n",
       "      border-radius: 50%;\n",
       "      cursor: pointer;\n",
       "      display: none;\n",
       "      fill: #1967D2;\n",
       "      height: 32px;\n",
       "      padding: 0 0 0 0;\n",
       "      width: 32px;\n",
       "    }\n",
       "\n",
       "    .colab-df-convert:hover {\n",
       "      background-color: #E2EBFA;\n",
       "      box-shadow: 0px 1px 2px rgba(60, 64, 67, 0.3), 0px 1px 3px 1px rgba(60, 64, 67, 0.15);\n",
       "      fill: #174EA6;\n",
       "    }\n",
       "\n",
       "    [theme=dark] .colab-df-convert {\n",
       "      background-color: #3B4455;\n",
       "      fill: #D2E3FC;\n",
       "    }\n",
       "\n",
       "    [theme=dark] .colab-df-convert:hover {\n",
       "      background-color: #434B5C;\n",
       "      box-shadow: 0px 1px 3px 1px rgba(0, 0, 0, 0.15);\n",
       "      filter: drop-shadow(0px 1px 2px rgba(0, 0, 0, 0.3));\n",
       "      fill: #FFFFFF;\n",
       "    }\n",
       "  </style>\n",
       "\n",
       "      <script>\n",
       "        const buttonEl =\n",
       "          document.querySelector('#df-f61b2935-2db6-4d8b-ada4-6c7c4bcdc272 button.colab-df-convert');\n",
       "        buttonEl.style.display =\n",
       "          google.colab.kernel.accessAllowed ? 'block' : 'none';\n",
       "\n",
       "        async function convertToInteractive(key) {\n",
       "          const element = document.querySelector('#df-f61b2935-2db6-4d8b-ada4-6c7c4bcdc272');\n",
       "          const dataTable =\n",
       "            await google.colab.kernel.invokeFunction('convertToInteractive',\n",
       "                                                     [key], {});\n",
       "          if (!dataTable) return;\n",
       "\n",
       "          const docLinkHtml = 'Like what you see? Visit the ' +\n",
       "            '<a target=\"_blank\" href=https://colab.research.google.com/notebooks/data_table.ipynb>data table notebook</a>'\n",
       "            + ' to learn more about interactive tables.';\n",
       "          element.innerHTML = '';\n",
       "          dataTable['output_type'] = 'display_data';\n",
       "          await google.colab.output.renderOutput(dataTable, element);\n",
       "          const docLink = document.createElement('div');\n",
       "          docLink.innerHTML = docLinkHtml;\n",
       "          element.appendChild(docLink);\n",
       "        }\n",
       "      </script>\n",
       "    </div>\n",
       "  </div>\n",
       "  "
      ],
      "text/plain": [
       "   Lagging_Current_Reactive.Power_kVarh  CO2(tCO2)  \\\n",
       "0                                  2.95        0.0   \n",
       "1                                  4.46        0.0   \n",
       "2                                  3.28        0.0   \n",
       "3                                  3.56        0.0   \n",
       "4                                  4.50        0.0   \n",
       "\n",
       "   Lagging_Current_Power_Factor  WeekStatus  Load_Type  \n",
       "0                         73.21           0          0  \n",
       "1                         66.77           0          0  \n",
       "2                         70.28           0          0  \n",
       "3                         68.09           0          0  \n",
       "4                         64.72           0          0  "
      ]
     },
     "execution_count": 43,
     "metadata": {},
     "output_type": "execute_result"
    }
   ],
   "source": [
    "X.head()"
   ]
  },
  {
   "cell_type": "markdown",
   "metadata": {
    "id": "jBSkKztvHHpq"
   },
   "source": [
    "### 4.3 Feature Scaling"
   ]
  },
  {
   "cell_type": "markdown",
   "metadata": {
    "id": "A70kAIhPHHpq"
   },
   "source": [
    "StandardScaler technique is used to standardize the features of a dataset so that they are on the same scale and have similar ranges.This ensures that the new data is on the same scale as the training data and will produce accurate predictions."
   ]
  },
  {
   "cell_type": "code",
   "execution_count": 44,
   "metadata": {
    "id": "MAyeIya_HHpr"
   },
   "outputs": [],
   "source": [
    "# Importing modules for feature scaling and performing standard scaling\n",
    "from sklearn.preprocessing import StandardScaler\n",
    "scaler = StandardScaler()\n",
    "X_scaled = scaler.fit_transform(X)"
   ]
  },
  {
   "cell_type": "code",
   "execution_count": 45,
   "metadata": {
    "colab": {
     "base_uri": "https://localhost:8080/",
     "height": 0
    },
    "id": "oM1C5EjqHHpr",
    "outputId": "7d136439-8e06-4f25-96f0-221e17faab3c"
   },
   "outputs": [
    {
     "data": {
      "text/plain": [
       "array([[-0.63513495, -0.72029175, -0.3896136 , -0.63124277, -0.88740425],\n",
       "       [-0.53234743, -0.72029175, -0.73006157, -0.63124277, -0.88740425],\n",
       "       [-0.61267145, -0.72029175, -0.54450685, -0.63124277, -0.88740425],\n",
       "       ...,\n",
       "       [-0.62015928, -0.72029175, -0.20934535, -0.63124277, -0.88740425],\n",
       "       [-0.62764711, -0.72029175, -0.1511943 , -0.63124277, -0.88740425],\n",
       "       [-0.63036996, -0.72029175, -0.17762659, -0.63124277, -0.88740425]])"
      ]
     },
     "execution_count": 45,
     "metadata": {},
     "output_type": "execute_result"
    }
   ],
   "source": [
    "X_scaled"
   ]
  },
  {
   "cell_type": "markdown",
   "metadata": {
    "id": "pPRqty7IHHps"
   },
   "source": [
    "## 5. Sampling"
   ]
  },
  {
   "cell_type": "markdown",
   "metadata": {
    "id": "MiJbKTg_HHps"
   },
   "source": [
    "#### Data Splitting"
   ]
  },
  {
   "cell_type": "code",
   "execution_count": 46,
   "metadata": {
    "id": "13Pxb1zsHHps"
   },
   "outputs": [],
   "source": [
    "# Data splitting\n",
    "from sklearn.model_selection import train_test_split\n",
    "x_train,x_test,y_train,y_test= train_test_split(X_scaled,y,test_size=0.2,random_state=42)"
   ]
  },
  {
   "cell_type": "markdown",
   "metadata": {
    "id": "7cy9dWpWHHpt"
   },
   "source": [
    "## 6. Modelling"
   ]
  },
  {
   "cell_type": "markdown",
   "metadata": {
    "id": "s7tAMhNXHHpt"
   },
   "source": [
    "### 6.1 Linear Regression Model"
   ]
  },
  {
   "cell_type": "markdown",
   "metadata": {
    "id": "V9vuO2LwHHpu"
   },
   "source": [
    "### 6.1.2 Simple Linear Regression Model"
   ]
  },
  {
   "cell_type": "code",
   "execution_count": 47,
   "metadata": {
    "id": "4JCoe0IhHHpu"
   },
   "outputs": [],
   "source": [
    "# Importing modules for Linear Regression Modelling\n",
    "from sklearn import linear_model\n",
    "from sklearn.metrics import mean_squared_error\n",
    "from sklearn.metrics import mean_absolute_error\n",
    "from sklearn.metrics import r2_score"
   ]
  },
  {
   "cell_type": "markdown",
   "metadata": {
    "id": "ggh9RmN5HHpu"
   },
   "source": [
    "##### Building and Training the Model"
   ]
  },
  {
   "cell_type": "code",
   "execution_count": 48,
   "metadata": {
    "colab": {
     "base_uri": "https://localhost:8080/",
     "height": 74
    },
    "id": "dfubZKnXHHpv",
    "outputId": "7ac3ddd4-1a10-429e-c729-712487f68b58"
   },
   "outputs": [
    {
     "data": {
      "text/html": [
       "<style>#sk-container-id-2 {color: black;background-color: white;}#sk-container-id-2 pre{padding: 0;}#sk-container-id-2 div.sk-toggleable {background-color: white;}#sk-container-id-2 label.sk-toggleable__label {cursor: pointer;display: block;width: 100%;margin-bottom: 0;padding: 0.3em;box-sizing: border-box;text-align: center;}#sk-container-id-2 label.sk-toggleable__label-arrow:before {content: \"▸\";float: left;margin-right: 0.25em;color: #696969;}#sk-container-id-2 label.sk-toggleable__label-arrow:hover:before {color: black;}#sk-container-id-2 div.sk-estimator:hover label.sk-toggleable__label-arrow:before {color: black;}#sk-container-id-2 div.sk-toggleable__content {max-height: 0;max-width: 0;overflow: hidden;text-align: left;background-color: #f0f8ff;}#sk-container-id-2 div.sk-toggleable__content pre {margin: 0.2em;color: black;border-radius: 0.25em;background-color: #f0f8ff;}#sk-container-id-2 input.sk-toggleable__control:checked~div.sk-toggleable__content {max-height: 200px;max-width: 100%;overflow: auto;}#sk-container-id-2 input.sk-toggleable__control:checked~label.sk-toggleable__label-arrow:before {content: \"▾\";}#sk-container-id-2 div.sk-estimator input.sk-toggleable__control:checked~label.sk-toggleable__label {background-color: #d4ebff;}#sk-container-id-2 div.sk-label input.sk-toggleable__control:checked~label.sk-toggleable__label {background-color: #d4ebff;}#sk-container-id-2 input.sk-hidden--visually {border: 0;clip: rect(1px 1px 1px 1px);clip: rect(1px, 1px, 1px, 1px);height: 1px;margin: -1px;overflow: hidden;padding: 0;position: absolute;width: 1px;}#sk-container-id-2 div.sk-estimator {font-family: monospace;background-color: #f0f8ff;border: 1px dotted black;border-radius: 0.25em;box-sizing: border-box;margin-bottom: 0.5em;}#sk-container-id-2 div.sk-estimator:hover {background-color: #d4ebff;}#sk-container-id-2 div.sk-parallel-item::after {content: \"\";width: 100%;border-bottom: 1px solid gray;flex-grow: 1;}#sk-container-id-2 div.sk-label:hover label.sk-toggleable__label {background-color: #d4ebff;}#sk-container-id-2 div.sk-serial::before {content: \"\";position: absolute;border-left: 1px solid gray;box-sizing: border-box;top: 0;bottom: 0;left: 50%;z-index: 0;}#sk-container-id-2 div.sk-serial {display: flex;flex-direction: column;align-items: center;background-color: white;padding-right: 0.2em;padding-left: 0.2em;position: relative;}#sk-container-id-2 div.sk-item {position: relative;z-index: 1;}#sk-container-id-2 div.sk-parallel {display: flex;align-items: stretch;justify-content: center;background-color: white;position: relative;}#sk-container-id-2 div.sk-item::before, #sk-container-id-2 div.sk-parallel-item::before {content: \"\";position: absolute;border-left: 1px solid gray;box-sizing: border-box;top: 0;bottom: 0;left: 50%;z-index: -1;}#sk-container-id-2 div.sk-parallel-item {display: flex;flex-direction: column;z-index: 1;position: relative;background-color: white;}#sk-container-id-2 div.sk-parallel-item:first-child::after {align-self: flex-end;width: 50%;}#sk-container-id-2 div.sk-parallel-item:last-child::after {align-self: flex-start;width: 50%;}#sk-container-id-2 div.sk-parallel-item:only-child::after {width: 0;}#sk-container-id-2 div.sk-dashed-wrapped {border: 1px dashed gray;margin: 0 0.4em 0.5em 0.4em;box-sizing: border-box;padding-bottom: 0.4em;background-color: white;}#sk-container-id-2 div.sk-label label {font-family: monospace;font-weight: bold;display: inline-block;line-height: 1.2em;}#sk-container-id-2 div.sk-label-container {text-align: center;}#sk-container-id-2 div.sk-container {/* jupyter's `normalize.less` sets `[hidden] { display: none; }` but bootstrap.min.css set `[hidden] { display: none !important; }` so we also need the `!important` here to be able to override the default hidden behavior on the sphinx rendered scikit-learn.org. See: https://github.com/scikit-learn/scikit-learn/issues/21755 */display: inline-block !important;position: relative;}#sk-container-id-2 div.sk-text-repr-fallback {display: none;}</style><div id=\"sk-container-id-2\" class=\"sk-top-container\"><div class=\"sk-text-repr-fallback\"><pre>LinearRegression()</pre><b>In a Jupyter environment, please rerun this cell to show the HTML representation or trust the notebook. <br />On GitHub, the HTML representation is unable to render, please try loading this page with nbviewer.org.</b></div><div class=\"sk-container\" hidden><div class=\"sk-item\"><div class=\"sk-estimator sk-toggleable\"><input class=\"sk-toggleable__control sk-hidden--visually\" id=\"sk-estimator-id-2\" type=\"checkbox\" checked><label for=\"sk-estimator-id-2\" class=\"sk-toggleable__label sk-toggleable__label-arrow\">LinearRegression</label><div class=\"sk-toggleable__content\"><pre>LinearRegression()</pre></div></div></div></div></div>"
      ],
      "text/plain": [
       "LinearRegression()"
      ]
     },
     "execution_count": 48,
     "metadata": {},
     "output_type": "execute_result"
    }
   ],
   "source": [
    "# Building and Training the Linear Regression Model\n",
    "lnr = linear_model.LinearRegression()\n",
    "lnr.fit(x_train, y_train)"
   ]
  },
  {
   "cell_type": "code",
   "execution_count": 49,
   "metadata": {
    "colab": {
     "base_uri": "https://localhost:8080/",
     "height": 0
    },
    "id": "9fwcX7wIHHpv",
    "outputId": "c7abe02d-e813-415a-c7a3-67abc76c5575"
   },
   "outputs": [
    {
     "name": "stdout",
     "output_type": "stream",
     "text": [
      "R2 score: 0.98\n",
      "MAE: 2.48\n",
      "Mean squared error: 19.26\n"
     ]
    }
   ],
   "source": [
    "y_pred_train = lnr.predict(x_train)\n",
    "mse_train = mean_squared_error(y_train, y_pred_train)\n",
    "mae_train = mean_absolute_error(y_train, y_pred_train)\n",
    "r2score_train = r2_score(y_train, y_pred_train)\n",
    "print(f\"R2 score: {r2score_train:.2f}\")\n",
    "print(f\"MAE: {mae_train:.2f}\")\n",
    "print(f\"Mean squared error: {mse_train:.2f}\")"
   ]
  },
  {
   "cell_type": "markdown",
   "metadata": {
    "id": "5GPQ1fnKHHpw"
   },
   "source": [
    "##### Evaluating the Model"
   ]
  },
  {
   "cell_type": "code",
   "execution_count": 50,
   "metadata": {
    "colab": {
     "base_uri": "https://localhost:8080/",
     "height": 0
    },
    "id": "CAquNlyAHHpw",
    "outputId": "182653b8-be4b-4fec-e8bc-cc55dce40bdd"
   },
   "outputs": [
    {
     "name": "stdout",
     "output_type": "stream",
     "text": [
      "R2 score: 0.98\n",
      "MAE: 2.44\n",
      "Mean squared error: 16.07\n"
     ]
    }
   ],
   "source": [
    "# Model Evaluation\n",
    "y_pred = lnr.predict(x_test)\n",
    "mse_test = mean_squared_error(y_test, y_pred)\n",
    "mae_test = mean_absolute_error(y_test, y_pred)\n",
    "r2score_test = r2_score(y_test, y_pred)\n",
    "print(f\"R2 score: {r2score_test:.2f}\")\n",
    "print(f\"MAE: {mae_test:.2f}\")\n",
    "print(f\"Mean squared error: {mse_test:.2f}\")"
   ]
  },
  {
   "cell_type": "markdown",
   "metadata": {
    "id": "iN_rhqh1HHpx"
   },
   "source": [
    "### 6.1.2 Hyper Parameter Optimization using Grid SearchCV"
   ]
  },
  {
   "cell_type": "code",
   "execution_count": 51,
   "metadata": {
    "id": "X-Mi3SDVHHpx"
   },
   "outputs": [],
   "source": [
    "# Importing modules for Hyper Parameter Optimization using Grid SearchCV\n",
    "from sklearn.model_selection import GridSearchCV\n",
    "from sklearn.metrics import r2_score"
   ]
  },
  {
   "cell_type": "markdown",
   "metadata": {
    "id": "K1r0BkpaHHpy"
   },
   "source": [
    "##### Building and Training the Model"
   ]
  },
  {
   "cell_type": "code",
   "execution_count": 52,
   "metadata": {
    "id": "XCQJZQR6HHpy"
   },
   "outputs": [],
   "source": [
    "# Building and Training the Model\n",
    "hyperparameters = {\n",
    "    'fit_intercept': [True, False],\n",
    "    'copy_X': [True, False],\n",
    "}\n",
    "gridsearch = GridSearchCV(lnr, hyperparameters, cv=5)"
   ]
  },
  {
   "cell_type": "code",
   "execution_count": 53,
   "metadata": {
    "colab": {
     "base_uri": "https://localhost:8080/",
     "height": 116
    },
    "id": "3iZUFXmVHHpy",
    "outputId": "4aecb06c-41f8-4f28-d7dc-f953a04f6f4e"
   },
   "outputs": [
    {
     "data": {
      "text/html": [
       "<style>#sk-container-id-3 {color: black;background-color: white;}#sk-container-id-3 pre{padding: 0;}#sk-container-id-3 div.sk-toggleable {background-color: white;}#sk-container-id-3 label.sk-toggleable__label {cursor: pointer;display: block;width: 100%;margin-bottom: 0;padding: 0.3em;box-sizing: border-box;text-align: center;}#sk-container-id-3 label.sk-toggleable__label-arrow:before {content: \"▸\";float: left;margin-right: 0.25em;color: #696969;}#sk-container-id-3 label.sk-toggleable__label-arrow:hover:before {color: black;}#sk-container-id-3 div.sk-estimator:hover label.sk-toggleable__label-arrow:before {color: black;}#sk-container-id-3 div.sk-toggleable__content {max-height: 0;max-width: 0;overflow: hidden;text-align: left;background-color: #f0f8ff;}#sk-container-id-3 div.sk-toggleable__content pre {margin: 0.2em;color: black;border-radius: 0.25em;background-color: #f0f8ff;}#sk-container-id-3 input.sk-toggleable__control:checked~div.sk-toggleable__content {max-height: 200px;max-width: 100%;overflow: auto;}#sk-container-id-3 input.sk-toggleable__control:checked~label.sk-toggleable__label-arrow:before {content: \"▾\";}#sk-container-id-3 div.sk-estimator input.sk-toggleable__control:checked~label.sk-toggleable__label {background-color: #d4ebff;}#sk-container-id-3 div.sk-label input.sk-toggleable__control:checked~label.sk-toggleable__label {background-color: #d4ebff;}#sk-container-id-3 input.sk-hidden--visually {border: 0;clip: rect(1px 1px 1px 1px);clip: rect(1px, 1px, 1px, 1px);height: 1px;margin: -1px;overflow: hidden;padding: 0;position: absolute;width: 1px;}#sk-container-id-3 div.sk-estimator {font-family: monospace;background-color: #f0f8ff;border: 1px dotted black;border-radius: 0.25em;box-sizing: border-box;margin-bottom: 0.5em;}#sk-container-id-3 div.sk-estimator:hover {background-color: #d4ebff;}#sk-container-id-3 div.sk-parallel-item::after {content: \"\";width: 100%;border-bottom: 1px solid gray;flex-grow: 1;}#sk-container-id-3 div.sk-label:hover label.sk-toggleable__label {background-color: #d4ebff;}#sk-container-id-3 div.sk-serial::before {content: \"\";position: absolute;border-left: 1px solid gray;box-sizing: border-box;top: 0;bottom: 0;left: 50%;z-index: 0;}#sk-container-id-3 div.sk-serial {display: flex;flex-direction: column;align-items: center;background-color: white;padding-right: 0.2em;padding-left: 0.2em;position: relative;}#sk-container-id-3 div.sk-item {position: relative;z-index: 1;}#sk-container-id-3 div.sk-parallel {display: flex;align-items: stretch;justify-content: center;background-color: white;position: relative;}#sk-container-id-3 div.sk-item::before, #sk-container-id-3 div.sk-parallel-item::before {content: \"\";position: absolute;border-left: 1px solid gray;box-sizing: border-box;top: 0;bottom: 0;left: 50%;z-index: -1;}#sk-container-id-3 div.sk-parallel-item {display: flex;flex-direction: column;z-index: 1;position: relative;background-color: white;}#sk-container-id-3 div.sk-parallel-item:first-child::after {align-self: flex-end;width: 50%;}#sk-container-id-3 div.sk-parallel-item:last-child::after {align-self: flex-start;width: 50%;}#sk-container-id-3 div.sk-parallel-item:only-child::after {width: 0;}#sk-container-id-3 div.sk-dashed-wrapped {border: 1px dashed gray;margin: 0 0.4em 0.5em 0.4em;box-sizing: border-box;padding-bottom: 0.4em;background-color: white;}#sk-container-id-3 div.sk-label label {font-family: monospace;font-weight: bold;display: inline-block;line-height: 1.2em;}#sk-container-id-3 div.sk-label-container {text-align: center;}#sk-container-id-3 div.sk-container {/* jupyter's `normalize.less` sets `[hidden] { display: none; }` but bootstrap.min.css set `[hidden] { display: none !important; }` so we also need the `!important` here to be able to override the default hidden behavior on the sphinx rendered scikit-learn.org. See: https://github.com/scikit-learn/scikit-learn/issues/21755 */display: inline-block !important;position: relative;}#sk-container-id-3 div.sk-text-repr-fallback {display: none;}</style><div id=\"sk-container-id-3\" class=\"sk-top-container\"><div class=\"sk-text-repr-fallback\"><pre>GridSearchCV(cv=5, estimator=LinearRegression(),\n",
       "             param_grid={&#x27;copy_X&#x27;: [True, False],\n",
       "                         &#x27;fit_intercept&#x27;: [True, False]})</pre><b>In a Jupyter environment, please rerun this cell to show the HTML representation or trust the notebook. <br />On GitHub, the HTML representation is unable to render, please try loading this page with nbviewer.org.</b></div><div class=\"sk-container\" hidden><div class=\"sk-item sk-dashed-wrapped\"><div class=\"sk-label-container\"><div class=\"sk-label sk-toggleable\"><input class=\"sk-toggleable__control sk-hidden--visually\" id=\"sk-estimator-id-3\" type=\"checkbox\" ><label for=\"sk-estimator-id-3\" class=\"sk-toggleable__label sk-toggleable__label-arrow\">GridSearchCV</label><div class=\"sk-toggleable__content\"><pre>GridSearchCV(cv=5, estimator=LinearRegression(),\n",
       "             param_grid={&#x27;copy_X&#x27;: [True, False],\n",
       "                         &#x27;fit_intercept&#x27;: [True, False]})</pre></div></div></div><div class=\"sk-parallel\"><div class=\"sk-parallel-item\"><div class=\"sk-item\"><div class=\"sk-label-container\"><div class=\"sk-label sk-toggleable\"><input class=\"sk-toggleable__control sk-hidden--visually\" id=\"sk-estimator-id-4\" type=\"checkbox\" ><label for=\"sk-estimator-id-4\" class=\"sk-toggleable__label sk-toggleable__label-arrow\">estimator: LinearRegression</label><div class=\"sk-toggleable__content\"><pre>LinearRegression()</pre></div></div></div><div class=\"sk-serial\"><div class=\"sk-item\"><div class=\"sk-estimator sk-toggleable\"><input class=\"sk-toggleable__control sk-hidden--visually\" id=\"sk-estimator-id-5\" type=\"checkbox\" ><label for=\"sk-estimator-id-5\" class=\"sk-toggleable__label sk-toggleable__label-arrow\">LinearRegression</label><div class=\"sk-toggleable__content\"><pre>LinearRegression()</pre></div></div></div></div></div></div></div></div></div></div>"
      ],
      "text/plain": [
       "GridSearchCV(cv=5, estimator=LinearRegression(),\n",
       "             param_grid={'copy_X': [True, False],\n",
       "                         'fit_intercept': [True, False]})"
      ]
     },
     "execution_count": 53,
     "metadata": {},
     "output_type": "execute_result"
    }
   ],
   "source": [
    "gridsearch.fit(x_train, y_train)"
   ]
  },
  {
   "cell_type": "code",
   "execution_count": 54,
   "metadata": {
    "colab": {
     "base_uri": "https://localhost:8080/",
     "height": 0
    },
    "id": "SxOY3TJhHHpz",
    "outputId": "529073a3-035e-40c1-ee80-3341e6b14e07",
    "scrolled": true
   },
   "outputs": [
    {
     "name": "stdout",
     "output_type": "stream",
     "text": [
      "R2 score: 0.98\n",
      "MAE: 2.48\n",
      "Mean squared error: 19.26\n",
      "Best hyperparameters:  {'copy_X': True, 'fit_intercept': True}\n"
     ]
    }
   ],
   "source": [
    "msehyptrain = mean_squared_error(y_train, y_pred_train)\n",
    "maehyptrain = mean_absolute_error(y_train, y_pred_train)\n",
    "r2scorehyptrain = r2_score(y_train, y_pred_train)\n",
    "print(f\"R2 score: {r2scorehyptrain:.2f}\")\n",
    "print(f\"MAE: {maehyptrain:.2f}\")\n",
    "print(f\"Mean squared error: {msehyptrain:.2f}\")\n",
    "\n",
    "# best hyperparameters\n",
    "print(\"Best hyperparameters: \", gridsearch.best_params_)"
   ]
  },
  {
   "cell_type": "markdown",
   "metadata": {
    "id": "2wKPOzBnHHpz"
   },
   "source": [
    "##### Evaluating the Model"
   ]
  },
  {
   "cell_type": "code",
   "execution_count": 55,
   "metadata": {
    "colab": {
     "base_uri": "https://localhost:8080/",
     "height": 0
    },
    "id": "1Sjzpp-WHHp0",
    "outputId": "55fe7022-71bb-4cb1-cc7d-c9b3d364087d"
   },
   "outputs": [
    {
     "name": "stdout",
     "output_type": "stream",
     "text": [
      "R2 score: 0.98\n",
      "MAE: 2.44\n",
      "Mean squared error: 16.07\n",
      "Best hyperparameters:  {'copy_X': True, 'fit_intercept': True}\n"
     ]
    }
   ],
   "source": [
    "# Model Evaluation\n",
    "msehyptest = mean_squared_error(y_test, y_pred)\n",
    "maehyptest = mean_absolute_error(y_test, y_pred)\n",
    "r2scorehyptest = r2_score(y_test, y_pred)\n",
    "print(f\"R2 score: {r2scorehyptest:.2f}\")\n",
    "print(f\"MAE: {maehyptest:.2f}\")\n",
    "print(f\"Mean squared error: {msehyptest:.2f}\")\n",
    "\n",
    "# best hyperparameters\n",
    "print(\"Best hyperparameters: \", gridsearch.best_params_)"
   ]
  },
  {
   "cell_type": "markdown",
   "metadata": {
    "id": "8gS0MIsrHHp0"
   },
   "source": [
    "### Summary"
   ]
  },
  {
   "cell_type": "code",
   "execution_count": 56,
   "metadata": {
    "colab": {
     "base_uri": "https://localhost:8080/",
     "height": 174
    },
    "id": "3zr_2nI3HHp1",
    "outputId": "6dd5b0cb-4d49-4b3f-8ab6-73b18944710d"
   },
   "outputs": [
    {
     "data": {
      "text/html": [
       "\n",
       "  <div id=\"df-79a0e771-9069-4817-91f3-3cc1d51bd651\">\n",
       "    <div class=\"colab-df-container\">\n",
       "      <div>\n",
       "<style scoped>\n",
       "    .dataframe tbody tr th:only-of-type {\n",
       "        vertical-align: middle;\n",
       "    }\n",
       "\n",
       "    .dataframe tbody tr th {\n",
       "        vertical-align: top;\n",
       "    }\n",
       "\n",
       "    .dataframe thead th {\n",
       "        text-align: right;\n",
       "    }\n",
       "</style>\n",
       "<table border=\"1\" class=\"dataframe\">\n",
       "  <thead>\n",
       "    <tr style=\"text-align: right;\">\n",
       "      <th></th>\n",
       "      <th>MODEL TYPE</th>\n",
       "      <th>DATASET TYPE</th>\n",
       "      <th>R-2 SCORE</th>\n",
       "      <th>MEAN SQUARED ERROR</th>\n",
       "      <th>MEAN ABSOLUTE ERROR</th>\n",
       "    </tr>\n",
       "  </thead>\n",
       "  <tbody>\n",
       "    <tr>\n",
       "      <th>0</th>\n",
       "      <td>SIMPLE Linear Regression MODEL</td>\n",
       "      <td>Training Dataset</td>\n",
       "      <td>0.981203</td>\n",
       "      <td>19.261986</td>\n",
       "      <td>2.481332</td>\n",
       "    </tr>\n",
       "    <tr>\n",
       "      <th>1</th>\n",
       "      <td>SIMPLE Linear Regression MODEL</td>\n",
       "      <td>Test Dataset</td>\n",
       "      <td>0.984596</td>\n",
       "      <td>16.070619</td>\n",
       "      <td>2.438943</td>\n",
       "    </tr>\n",
       "    <tr>\n",
       "      <th>2</th>\n",
       "      <td>Linear Regression MODEL after HYPER PARAMETER ...</td>\n",
       "      <td>Training Dataset</td>\n",
       "      <td>0.981203</td>\n",
       "      <td>19.261986</td>\n",
       "      <td>2.481332</td>\n",
       "    </tr>\n",
       "    <tr>\n",
       "      <th>3</th>\n",
       "      <td>Linear Regression MODEL after HYPER PARAMETER ...</td>\n",
       "      <td>Test Dataset</td>\n",
       "      <td>0.984596</td>\n",
       "      <td>16.070619</td>\n",
       "      <td>2.438943</td>\n",
       "    </tr>\n",
       "  </tbody>\n",
       "</table>\n",
       "</div>\n",
       "      <button class=\"colab-df-convert\" onclick=\"convertToInteractive('df-79a0e771-9069-4817-91f3-3cc1d51bd651')\"\n",
       "              title=\"Convert this dataframe to an interactive table.\"\n",
       "              style=\"display:none;\">\n",
       "        \n",
       "  <svg xmlns=\"http://www.w3.org/2000/svg\" height=\"24px\"viewBox=\"0 0 24 24\"\n",
       "       width=\"24px\">\n",
       "    <path d=\"M0 0h24v24H0V0z\" fill=\"none\"/>\n",
       "    <path d=\"M18.56 5.44l.94 2.06.94-2.06 2.06-.94-2.06-.94-.94-2.06-.94 2.06-2.06.94zm-11 1L8.5 8.5l.94-2.06 2.06-.94-2.06-.94L8.5 2.5l-.94 2.06-2.06.94zm10 10l.94 2.06.94-2.06 2.06-.94-2.06-.94-.94-2.06-.94 2.06-2.06.94z\"/><path d=\"M17.41 7.96l-1.37-1.37c-.4-.4-.92-.59-1.43-.59-.52 0-1.04.2-1.43.59L10.3 9.45l-7.72 7.72c-.78.78-.78 2.05 0 2.83L4 21.41c.39.39.9.59 1.41.59.51 0 1.02-.2 1.41-.59l7.78-7.78 2.81-2.81c.8-.78.8-2.07 0-2.86zM5.41 20L4 18.59l7.72-7.72 1.47 1.35L5.41 20z\"/>\n",
       "  </svg>\n",
       "      </button>\n",
       "      \n",
       "  <style>\n",
       "    .colab-df-container {\n",
       "      display:flex;\n",
       "      flex-wrap:wrap;\n",
       "      gap: 12px;\n",
       "    }\n",
       "\n",
       "    .colab-df-convert {\n",
       "      background-color: #E8F0FE;\n",
       "      border: none;\n",
       "      border-radius: 50%;\n",
       "      cursor: pointer;\n",
       "      display: none;\n",
       "      fill: #1967D2;\n",
       "      height: 32px;\n",
       "      padding: 0 0 0 0;\n",
       "      width: 32px;\n",
       "    }\n",
       "\n",
       "    .colab-df-convert:hover {\n",
       "      background-color: #E2EBFA;\n",
       "      box-shadow: 0px 1px 2px rgba(60, 64, 67, 0.3), 0px 1px 3px 1px rgba(60, 64, 67, 0.15);\n",
       "      fill: #174EA6;\n",
       "    }\n",
       "\n",
       "    [theme=dark] .colab-df-convert {\n",
       "      background-color: #3B4455;\n",
       "      fill: #D2E3FC;\n",
       "    }\n",
       "\n",
       "    [theme=dark] .colab-df-convert:hover {\n",
       "      background-color: #434B5C;\n",
       "      box-shadow: 0px 1px 3px 1px rgba(0, 0, 0, 0.15);\n",
       "      filter: drop-shadow(0px 1px 2px rgba(0, 0, 0, 0.3));\n",
       "      fill: #FFFFFF;\n",
       "    }\n",
       "  </style>\n",
       "\n",
       "      <script>\n",
       "        const buttonEl =\n",
       "          document.querySelector('#df-79a0e771-9069-4817-91f3-3cc1d51bd651 button.colab-df-convert');\n",
       "        buttonEl.style.display =\n",
       "          google.colab.kernel.accessAllowed ? 'block' : 'none';\n",
       "\n",
       "        async function convertToInteractive(key) {\n",
       "          const element = document.querySelector('#df-79a0e771-9069-4817-91f3-3cc1d51bd651');\n",
       "          const dataTable =\n",
       "            await google.colab.kernel.invokeFunction('convertToInteractive',\n",
       "                                                     [key], {});\n",
       "          if (!dataTable) return;\n",
       "\n",
       "          const docLinkHtml = 'Like what you see? Visit the ' +\n",
       "            '<a target=\"_blank\" href=https://colab.research.google.com/notebooks/data_table.ipynb>data table notebook</a>'\n",
       "            + ' to learn more about interactive tables.';\n",
       "          element.innerHTML = '';\n",
       "          dataTable['output_type'] = 'display_data';\n",
       "          await google.colab.output.renderOutput(dataTable, element);\n",
       "          const docLink = document.createElement('div');\n",
       "          docLink.innerHTML = docLinkHtml;\n",
       "          element.appendChild(docLink);\n",
       "        }\n",
       "      </script>\n",
       "    </div>\n",
       "  </div>\n",
       "  "
      ],
      "text/plain": [
       "                                          MODEL TYPE      DATASET TYPE  \\\n",
       "0                     SIMPLE Linear Regression MODEL  Training Dataset   \n",
       "1                     SIMPLE Linear Regression MODEL      Test Dataset   \n",
       "2  Linear Regression MODEL after HYPER PARAMETER ...  Training Dataset   \n",
       "3  Linear Regression MODEL after HYPER PARAMETER ...      Test Dataset   \n",
       "\n",
       "   R-2 SCORE  MEAN SQUARED ERROR  MEAN ABSOLUTE ERROR  \n",
       "0   0.981203           19.261986             2.481332  \n",
       "1   0.984596           16.070619             2.438943  \n",
       "2   0.981203           19.261986             2.481332  \n",
       "3   0.984596           16.070619             2.438943  "
      ]
     },
     "execution_count": 56,
     "metadata": {},
     "output_type": "execute_result"
    }
   ],
   "source": [
    "# Summary of Linear Regression Model in form of table\n",
    "prediction_columns = [\"MODEL TYPE\", \"DATASET TYPE\", \"R-2 SCORE\", \"MEAN SQUARED ERROR\", \"MEAN ABSOLUTE ERROR\"]\n",
    "df_pred = {\"MODEL TYPE\" : [\"SIMPLE Linear Regression MODEL\", \"SIMPLE Linear Regression MODEL\", \"Linear Regression MODEL after HYPER PARAMETER OPTIMIZATION\", \"Linear Regression MODEL after HYPER PARAMETER OPTIMIZATION\"],\n",
    "           \"DATASET TYPE\" : [\"Training Dataset\", \"Test Dataset\", \"Training Dataset\", \"Test Dataset\"],\n",
    "           \"R-2 SCORE\" : [r2score_train, r2score_test, r2scorehyptrain, r2scorehyptest],\n",
    "           \"MEAN SQUARED ERROR\" : [mse_train, mse_test, msehyptrain, msehyptest],\n",
    "           \"MEAN ABSOLUTE ERROR\" :[mae_train, mae_test, maehyptrain, maehyptest]\n",
    "          }\n",
    "df_predictions = pd.DataFrame (df_pred)\n",
    "df_predictions"
   ]
  },
  {
   "cell_type": "markdown",
   "metadata": {
    "id": "xrhVaej2HHp1"
   },
   "source": [
    "### 6.2 Random Forest Regressor Model"
   ]
  },
  {
   "cell_type": "markdown",
   "metadata": {
    "id": "JDcNsdLmHHp2"
   },
   "source": [
    "Random Forest Regressor is a Random Forest algorithm variant designed specifically for regression tasks. It works by constructing multiple decision trees on random subsets of the training data and then combining their predictions to produce a more accurate and stable prediction.\n",
    "Here are some key points to summarize Random Forest Regressor:\n",
    "1. Random Forest Regressor is an ensemble learning algorithm that combines the predictions of multiple decision trees to produce a final prediction.\n",
    "2. It is a powerful algorithm capable of handling a variety of regression tasks, including non-linear relationships and high-dimensional data.\n",
    "3. Because of built-in regularisation techniques like random feature selection and bagging, the Random Forest Regressor is resistant to overfitting.\n",
    "4. The number of trees in the forest, the maximum depth of each tree, and the minimum number of samples required to split a node are all hyperparameters that can be tuned to improve the algorithm's performance.\n",
    "5. Because of its high accuracy and interpretability, the Random Forest Regressor is widely used in a variety of applications such as finance, healthcare, and engineering."
   ]
  },
  {
   "cell_type": "markdown",
   "metadata": {
    "id": "lvaYJmDgHHp2"
   },
   "source": [
    "#### Simple Random Forest Regressor (RFR) Model"
   ]
  },
  {
   "cell_type": "code",
   "execution_count": 57,
   "metadata": {
    "id": "ruxqXz0QHHp2"
   },
   "outputs": [],
   "source": [
    "# Importing modules for Simple Random Forest Regressor (RFR) Model\n",
    "from sklearn.ensemble import RandomForestRegressor\n",
    "from sklearn.metrics import mean_squared_error\n",
    "from sklearn.metrics import mean_absolute_error\n",
    "from sklearn.metrics import r2_score"
   ]
  },
  {
   "cell_type": "code",
   "execution_count": 58,
   "metadata": {
    "colab": {
     "base_uri": "https://localhost:8080/",
     "height": 74
    },
    "id": "xJpV_DbLHHp3",
    "outputId": "2e906e94-63a1-4ceb-8064-f60e8b8c2932"
   },
   "outputs": [
    {
     "data": {
      "text/html": [
       "<style>#sk-container-id-4 {color: black;background-color: white;}#sk-container-id-4 pre{padding: 0;}#sk-container-id-4 div.sk-toggleable {background-color: white;}#sk-container-id-4 label.sk-toggleable__label {cursor: pointer;display: block;width: 100%;margin-bottom: 0;padding: 0.3em;box-sizing: border-box;text-align: center;}#sk-container-id-4 label.sk-toggleable__label-arrow:before {content: \"▸\";float: left;margin-right: 0.25em;color: #696969;}#sk-container-id-4 label.sk-toggleable__label-arrow:hover:before {color: black;}#sk-container-id-4 div.sk-estimator:hover label.sk-toggleable__label-arrow:before {color: black;}#sk-container-id-4 div.sk-toggleable__content {max-height: 0;max-width: 0;overflow: hidden;text-align: left;background-color: #f0f8ff;}#sk-container-id-4 div.sk-toggleable__content pre {margin: 0.2em;color: black;border-radius: 0.25em;background-color: #f0f8ff;}#sk-container-id-4 input.sk-toggleable__control:checked~div.sk-toggleable__content {max-height: 200px;max-width: 100%;overflow: auto;}#sk-container-id-4 input.sk-toggleable__control:checked~label.sk-toggleable__label-arrow:before {content: \"▾\";}#sk-container-id-4 div.sk-estimator input.sk-toggleable__control:checked~label.sk-toggleable__label {background-color: #d4ebff;}#sk-container-id-4 div.sk-label input.sk-toggleable__control:checked~label.sk-toggleable__label {background-color: #d4ebff;}#sk-container-id-4 input.sk-hidden--visually {border: 0;clip: rect(1px 1px 1px 1px);clip: rect(1px, 1px, 1px, 1px);height: 1px;margin: -1px;overflow: hidden;padding: 0;position: absolute;width: 1px;}#sk-container-id-4 div.sk-estimator {font-family: monospace;background-color: #f0f8ff;border: 1px dotted black;border-radius: 0.25em;box-sizing: border-box;margin-bottom: 0.5em;}#sk-container-id-4 div.sk-estimator:hover {background-color: #d4ebff;}#sk-container-id-4 div.sk-parallel-item::after {content: \"\";width: 100%;border-bottom: 1px solid gray;flex-grow: 1;}#sk-container-id-4 div.sk-label:hover label.sk-toggleable__label {background-color: #d4ebff;}#sk-container-id-4 div.sk-serial::before {content: \"\";position: absolute;border-left: 1px solid gray;box-sizing: border-box;top: 0;bottom: 0;left: 50%;z-index: 0;}#sk-container-id-4 div.sk-serial {display: flex;flex-direction: column;align-items: center;background-color: white;padding-right: 0.2em;padding-left: 0.2em;position: relative;}#sk-container-id-4 div.sk-item {position: relative;z-index: 1;}#sk-container-id-4 div.sk-parallel {display: flex;align-items: stretch;justify-content: center;background-color: white;position: relative;}#sk-container-id-4 div.sk-item::before, #sk-container-id-4 div.sk-parallel-item::before {content: \"\";position: absolute;border-left: 1px solid gray;box-sizing: border-box;top: 0;bottom: 0;left: 50%;z-index: -1;}#sk-container-id-4 div.sk-parallel-item {display: flex;flex-direction: column;z-index: 1;position: relative;background-color: white;}#sk-container-id-4 div.sk-parallel-item:first-child::after {align-self: flex-end;width: 50%;}#sk-container-id-4 div.sk-parallel-item:last-child::after {align-self: flex-start;width: 50%;}#sk-container-id-4 div.sk-parallel-item:only-child::after {width: 0;}#sk-container-id-4 div.sk-dashed-wrapped {border: 1px dashed gray;margin: 0 0.4em 0.5em 0.4em;box-sizing: border-box;padding-bottom: 0.4em;background-color: white;}#sk-container-id-4 div.sk-label label {font-family: monospace;font-weight: bold;display: inline-block;line-height: 1.2em;}#sk-container-id-4 div.sk-label-container {text-align: center;}#sk-container-id-4 div.sk-container {/* jupyter's `normalize.less` sets `[hidden] { display: none; }` but bootstrap.min.css set `[hidden] { display: none !important; }` so we also need the `!important` here to be able to override the default hidden behavior on the sphinx rendered scikit-learn.org. See: https://github.com/scikit-learn/scikit-learn/issues/21755 */display: inline-block !important;position: relative;}#sk-container-id-4 div.sk-text-repr-fallback {display: none;}</style><div id=\"sk-container-id-4\" class=\"sk-top-container\"><div class=\"sk-text-repr-fallback\"><pre>RandomForestRegressor(random_state=42)</pre><b>In a Jupyter environment, please rerun this cell to show the HTML representation or trust the notebook. <br />On GitHub, the HTML representation is unable to render, please try loading this page with nbviewer.org.</b></div><div class=\"sk-container\" hidden><div class=\"sk-item\"><div class=\"sk-estimator sk-toggleable\"><input class=\"sk-toggleable__control sk-hidden--visually\" id=\"sk-estimator-id-6\" type=\"checkbox\" checked><label for=\"sk-estimator-id-6\" class=\"sk-toggleable__label sk-toggleable__label-arrow\">RandomForestRegressor</label><div class=\"sk-toggleable__content\"><pre>RandomForestRegressor(random_state=42)</pre></div></div></div></div></div>"
      ],
      "text/plain": [
       "RandomForestRegressor(random_state=42)"
      ]
     },
     "execution_count": 58,
     "metadata": {},
     "output_type": "execute_result"
    }
   ],
   "source": [
    "# Building and Training Model\n",
    "rfr = RandomForestRegressor(n_estimators=100, random_state=42)\n",
    "rfr.fit(x_train, y_train)"
   ]
  },
  {
   "cell_type": "code",
   "execution_count": 59,
   "metadata": {
    "id": "h_jMc09oHHp3"
   },
   "outputs": [],
   "source": [
    "y_pred_train = rfr.predict(x_train)"
   ]
  },
  {
   "cell_type": "code",
   "execution_count": 60,
   "metadata": {
    "colab": {
     "base_uri": "https://localhost:8080/",
     "height": 0
    },
    "id": "m1roLJcRHHp4",
    "outputId": "3e4f1d06-6dbc-417b-d1d0-fe2209ec5e4d"
   },
   "outputs": [
    {
     "name": "stdout",
     "output_type": "stream",
     "text": [
      "R2 score: 1.00\n",
      "MAE: 0.31\n",
      "Mean squared error: 0.84\n"
     ]
    }
   ],
   "source": [
    "mse_train = mean_squared_error(y_train, y_pred_train)\n",
    "mae_train = mean_absolute_error(y_train, y_pred_train)\n",
    "r2score_train = r2_score(y_train, y_pred_train)\n",
    "print(f\"R2 score: {r2score_train:.2f}\")\n",
    "print(f\"MAE: {mae_train:.2f}\")\n",
    "print(f\"Mean squared error: {mse_train:.2f}\")"
   ]
  },
  {
   "cell_type": "code",
   "execution_count": 61,
   "metadata": {
    "id": "bbB5VF6PHHp4"
   },
   "outputs": [],
   "source": [
    "y_pred = rfr.predict(x_test)"
   ]
  },
  {
   "cell_type": "markdown",
   "metadata": {
    "id": "-L6XEZwhHHp4"
   },
   "source": [
    " <b> Model Evaluation</b>"
   ]
  },
  {
   "cell_type": "code",
   "execution_count": 62,
   "metadata": {
    "colab": {
     "base_uri": "https://localhost:8080/",
     "height": 0
    },
    "id": "70XlLYD9HHp5",
    "outputId": "f8b49cc8-65d4-4d06-b870-449458df6ea2"
   },
   "outputs": [
    {
     "name": "stdout",
     "output_type": "stream",
     "text": [
      "R2 score: 1.00\n",
      "MAE: 0.48\n",
      "Mean squared error: 3.08\n"
     ]
    }
   ],
   "source": [
    "# Model Evaluation\n",
    "mse_test = mean_squared_error(y_test, y_pred)\n",
    "mae_test = mean_absolute_error(y_test, y_pred)\n",
    "r2score_test = r2_score(y_test, y_pred)\n",
    "print(f\"R2 score: {r2score_test:.2f}\")\n",
    "print(f\"MAE: {mae_test:.2f}\")\n",
    "print(f\"Mean squared error: {mse_test:.2f}\")"
   ]
  },
  {
   "cell_type": "markdown",
   "metadata": {
    "id": "ow0uuNAWHHp5"
   },
   "source": [
    "### Hyper parameter optimization using gridsearchCV"
   ]
  },
  {
   "cell_type": "markdown",
   "metadata": {
    "id": "tqTKvAL_HHp6"
   },
   "source": [
    "The optimization of hyperparameters is an important step in the development of machine learning models. Some of the hyperparameters that can be tuned in the case of Random Forest Regressor include\n",
    "1. The number of trees in the forest (n estimators)\n",
    "2. the maximum depth of the trees (max depth)\n",
    "3. the minimum number of samples required to split an internal node (min samples split)\n",
    "4. the minimum number of samples required to be at a leaf node (min samples leaf)."
   ]
  },
  {
   "cell_type": "markdown",
   "metadata": {
    "id": "ayVfHh0pJHXx"
   },
   "source": [
    "Citation: Sociopath. “Random Forest Using GridSearchCV.” Kaggle, 16 Oct. 2018, www.kaggle.com/code/sociopath00/random-forest-using-gridsearchcv."
   ]
  },
  {
   "cell_type": "code",
   "execution_count": 63,
   "metadata": {
    "id": "jrULxt-pHHp6"
   },
   "outputs": [],
   "source": [
    "from sklearn.model_selection import GridSearchCV\n",
    "from sklearn.metrics import r2_score"
   ]
  },
  {
   "cell_type": "markdown",
   "metadata": {
    "id": "zF8k7-1cHHp7"
   },
   "source": [
    "<b> Building and Training Model </b>"
   ]
  },
  {
   "cell_type": "code",
   "execution_count": 64,
   "metadata": {
    "id": "7zdRloPnHHp7"
   },
   "outputs": [],
   "source": [
    "# Define the hyperparameter space to search\n",
    "parameters = {\n",
    "    'n_estimators':[50, 100, 200],\n",
    "    'max_depth':[3, 5, 7],\n",
    "    'max_features':['sqrt', 'log2', None]\n",
    "    }"
   ]
  },
  {
   "cell_type": "code",
   "execution_count": 65,
   "metadata": {
    "id": "cEh0zAu4HHp8"
   },
   "outputs": [],
   "source": [
    "# Create a GridSearchCV object\n",
    "grid_search = GridSearchCV(rfr, parameters, cv=5)"
   ]
  },
  {
   "cell_type": "code",
   "execution_count": 66,
   "metadata": {
    "colab": {
     "base_uri": "https://localhost:8080/",
     "height": 116
    },
    "id": "TuzOntT_HHp8",
    "outputId": "e0200554-edd5-4a10-d376-5cc7032343ba"
   },
   "outputs": [
    {
     "data": {
      "text/html": [
       "<style>#sk-container-id-5 {color: black;background-color: white;}#sk-container-id-5 pre{padding: 0;}#sk-container-id-5 div.sk-toggleable {background-color: white;}#sk-container-id-5 label.sk-toggleable__label {cursor: pointer;display: block;width: 100%;margin-bottom: 0;padding: 0.3em;box-sizing: border-box;text-align: center;}#sk-container-id-5 label.sk-toggleable__label-arrow:before {content: \"▸\";float: left;margin-right: 0.25em;color: #696969;}#sk-container-id-5 label.sk-toggleable__label-arrow:hover:before {color: black;}#sk-container-id-5 div.sk-estimator:hover label.sk-toggleable__label-arrow:before {color: black;}#sk-container-id-5 div.sk-toggleable__content {max-height: 0;max-width: 0;overflow: hidden;text-align: left;background-color: #f0f8ff;}#sk-container-id-5 div.sk-toggleable__content pre {margin: 0.2em;color: black;border-radius: 0.25em;background-color: #f0f8ff;}#sk-container-id-5 input.sk-toggleable__control:checked~div.sk-toggleable__content {max-height: 200px;max-width: 100%;overflow: auto;}#sk-container-id-5 input.sk-toggleable__control:checked~label.sk-toggleable__label-arrow:before {content: \"▾\";}#sk-container-id-5 div.sk-estimator input.sk-toggleable__control:checked~label.sk-toggleable__label {background-color: #d4ebff;}#sk-container-id-5 div.sk-label input.sk-toggleable__control:checked~label.sk-toggleable__label {background-color: #d4ebff;}#sk-container-id-5 input.sk-hidden--visually {border: 0;clip: rect(1px 1px 1px 1px);clip: rect(1px, 1px, 1px, 1px);height: 1px;margin: -1px;overflow: hidden;padding: 0;position: absolute;width: 1px;}#sk-container-id-5 div.sk-estimator {font-family: monospace;background-color: #f0f8ff;border: 1px dotted black;border-radius: 0.25em;box-sizing: border-box;margin-bottom: 0.5em;}#sk-container-id-5 div.sk-estimator:hover {background-color: #d4ebff;}#sk-container-id-5 div.sk-parallel-item::after {content: \"\";width: 100%;border-bottom: 1px solid gray;flex-grow: 1;}#sk-container-id-5 div.sk-label:hover label.sk-toggleable__label {background-color: #d4ebff;}#sk-container-id-5 div.sk-serial::before {content: \"\";position: absolute;border-left: 1px solid gray;box-sizing: border-box;top: 0;bottom: 0;left: 50%;z-index: 0;}#sk-container-id-5 div.sk-serial {display: flex;flex-direction: column;align-items: center;background-color: white;padding-right: 0.2em;padding-left: 0.2em;position: relative;}#sk-container-id-5 div.sk-item {position: relative;z-index: 1;}#sk-container-id-5 div.sk-parallel {display: flex;align-items: stretch;justify-content: center;background-color: white;position: relative;}#sk-container-id-5 div.sk-item::before, #sk-container-id-5 div.sk-parallel-item::before {content: \"\";position: absolute;border-left: 1px solid gray;box-sizing: border-box;top: 0;bottom: 0;left: 50%;z-index: -1;}#sk-container-id-5 div.sk-parallel-item {display: flex;flex-direction: column;z-index: 1;position: relative;background-color: white;}#sk-container-id-5 div.sk-parallel-item:first-child::after {align-self: flex-end;width: 50%;}#sk-container-id-5 div.sk-parallel-item:last-child::after {align-self: flex-start;width: 50%;}#sk-container-id-5 div.sk-parallel-item:only-child::after {width: 0;}#sk-container-id-5 div.sk-dashed-wrapped {border: 1px dashed gray;margin: 0 0.4em 0.5em 0.4em;box-sizing: border-box;padding-bottom: 0.4em;background-color: white;}#sk-container-id-5 div.sk-label label {font-family: monospace;font-weight: bold;display: inline-block;line-height: 1.2em;}#sk-container-id-5 div.sk-label-container {text-align: center;}#sk-container-id-5 div.sk-container {/* jupyter's `normalize.less` sets `[hidden] { display: none; }` but bootstrap.min.css set `[hidden] { display: none !important; }` so we also need the `!important` here to be able to override the default hidden behavior on the sphinx rendered scikit-learn.org. See: https://github.com/scikit-learn/scikit-learn/issues/21755 */display: inline-block !important;position: relative;}#sk-container-id-5 div.sk-text-repr-fallback {display: none;}</style><div id=\"sk-container-id-5\" class=\"sk-top-container\"><div class=\"sk-text-repr-fallback\"><pre>GridSearchCV(cv=5, estimator=RandomForestRegressor(random_state=42),\n",
       "             param_grid={&#x27;max_depth&#x27;: [3, 5, 7],\n",
       "                         &#x27;max_features&#x27;: [&#x27;sqrt&#x27;, &#x27;log2&#x27;, None],\n",
       "                         &#x27;n_estimators&#x27;: [50, 100, 200]})</pre><b>In a Jupyter environment, please rerun this cell to show the HTML representation or trust the notebook. <br />On GitHub, the HTML representation is unable to render, please try loading this page with nbviewer.org.</b></div><div class=\"sk-container\" hidden><div class=\"sk-item sk-dashed-wrapped\"><div class=\"sk-label-container\"><div class=\"sk-label sk-toggleable\"><input class=\"sk-toggleable__control sk-hidden--visually\" id=\"sk-estimator-id-7\" type=\"checkbox\" ><label for=\"sk-estimator-id-7\" class=\"sk-toggleable__label sk-toggleable__label-arrow\">GridSearchCV</label><div class=\"sk-toggleable__content\"><pre>GridSearchCV(cv=5, estimator=RandomForestRegressor(random_state=42),\n",
       "             param_grid={&#x27;max_depth&#x27;: [3, 5, 7],\n",
       "                         &#x27;max_features&#x27;: [&#x27;sqrt&#x27;, &#x27;log2&#x27;, None],\n",
       "                         &#x27;n_estimators&#x27;: [50, 100, 200]})</pre></div></div></div><div class=\"sk-parallel\"><div class=\"sk-parallel-item\"><div class=\"sk-item\"><div class=\"sk-label-container\"><div class=\"sk-label sk-toggleable\"><input class=\"sk-toggleable__control sk-hidden--visually\" id=\"sk-estimator-id-8\" type=\"checkbox\" ><label for=\"sk-estimator-id-8\" class=\"sk-toggleable__label sk-toggleable__label-arrow\">estimator: RandomForestRegressor</label><div class=\"sk-toggleable__content\"><pre>RandomForestRegressor(random_state=42)</pre></div></div></div><div class=\"sk-serial\"><div class=\"sk-item\"><div class=\"sk-estimator sk-toggleable\"><input class=\"sk-toggleable__control sk-hidden--visually\" id=\"sk-estimator-id-9\" type=\"checkbox\" ><label for=\"sk-estimator-id-9\" class=\"sk-toggleable__label sk-toggleable__label-arrow\">RandomForestRegressor</label><div class=\"sk-toggleable__content\"><pre>RandomForestRegressor(random_state=42)</pre></div></div></div></div></div></div></div></div></div></div>"
      ],
      "text/plain": [
       "GridSearchCV(cv=5, estimator=RandomForestRegressor(random_state=42),\n",
       "             param_grid={'max_depth': [3, 5, 7],\n",
       "                         'max_features': ['sqrt', 'log2', None],\n",
       "                         'n_estimators': [50, 100, 200]})"
      ]
     },
     "execution_count": 66,
     "metadata": {},
     "output_type": "execute_result"
    }
   ],
   "source": [
    "# Fit the model on the training data\n",
    "grid_search.fit(x_train, y_train)"
   ]
  },
  {
   "cell_type": "code",
   "execution_count": 67,
   "metadata": {
    "id": "JeBQjo-hHHp8"
   },
   "outputs": [],
   "source": [
    "y_pred_train = grid_search.predict(x_train)"
   ]
  },
  {
   "cell_type": "code",
   "execution_count": 68,
   "metadata": {
    "colab": {
     "base_uri": "https://localhost:8080/",
     "height": 0
    },
    "id": "w5qvp9u9HHp9",
    "outputId": "e1d5d8dd-8a70-40f5-9bec-0402aa733962"
   },
   "outputs": [
    {
     "name": "stdout",
     "output_type": "stream",
     "text": [
      "R2 score: 0.99\n",
      "MAE: 1.60\n",
      "Mean squared error: 7.60\n",
      "Best hyperparameters:  {'max_depth': 7, 'max_features': None, 'n_estimators': 100}\n"
     ]
    }
   ],
   "source": [
    "# Calculateing the mse,mae and r2 of the training data\n",
    "mse_hyp_train = mean_squared_error(y_train, y_pred_train)\n",
    "mae_hyp_train = mean_absolute_error(y_train, y_pred_train)\n",
    "r2score_hyp_train = r2_score(y_train, y_pred_train)\n",
    "print(f\"R2 score: {r2score_hyp_train:.2f}\")\n",
    "print(f\"MAE: {mae_hyp_train:.2f}\")\n",
    "print(f\"Mean squared error: {mse_hyp_train:.2f}\")\n",
    "\n",
    "# best hyperparameters\n",
    "print(\"Best hyperparameters: \", grid_search.best_params_)"
   ]
  },
  {
   "cell_type": "markdown",
   "metadata": {
    "id": "-TL6Gr_KHHp9"
   },
   "source": [
    " <b> model Evaluation</b>"
   ]
  },
  {
   "cell_type": "code",
   "execution_count": 69,
   "metadata": {
    "id": "WwMAs1RfHHp-"
   },
   "outputs": [],
   "source": [
    "# Making predictions on the testing data\n",
    "y_pred = grid_search.predict(x_test)"
   ]
  },
  {
   "cell_type": "code",
   "execution_count": 70,
   "metadata": {
    "colab": {
     "base_uri": "https://localhost:8080/",
     "height": 0
    },
    "id": "sdpJhY_VHHp-",
    "outputId": "13ce1f89-95d8-4417-d489-09dd4f05a43e"
   },
   "outputs": [
    {
     "name": "stdout",
     "output_type": "stream",
     "text": [
      "R2 score: 0.99\n",
      "MAE: 1.66\n",
      "Mean squared error: 9.55\n",
      "Best hyperparameters:  {'max_depth': 7, 'max_features': None, 'n_estimators': 100}\n"
     ]
    }
   ],
   "source": [
    "\n",
    "\n",
    "# Calculateing the mse,mae and r2 of the testing data\n",
    "mse_hyp_test = mean_squared_error(y_test, y_pred)\n",
    "mae_hyp_test = mean_absolute_error(y_test, y_pred)\n",
    "r2score_hyp_test = r2_score(y_test, y_pred)\n",
    "print(f\"R2 score: {r2score_hyp_test:.2f}\")\n",
    "print(f\"MAE: {mae_hyp_test:.2f}\")\n",
    "print(f\"Mean squared error: {mse_hyp_test:.2f}\")\n",
    "\n",
    "# best hyperparameters\n",
    "print(\"Best hyperparameters: \", grid_search.best_params_)"
   ]
  },
  {
   "cell_type": "markdown",
   "metadata": {
    "id": "Z9X5Gn_XHHp-"
   },
   "source": [
    "### Summary"
   ]
  },
  {
   "cell_type": "code",
   "execution_count": 71,
   "metadata": {
    "colab": {
     "base_uri": "https://localhost:8080/",
     "height": 174
    },
    "id": "Ru8fB_FXHHp_",
    "outputId": "2a0f86d0-5af6-49bd-f5b3-f37211f375b9"
   },
   "outputs": [
    {
     "data": {
      "text/html": [
       "\n",
       "  <div id=\"df-52acbad2-6c05-47af-a6b4-20049de5f6c1\">\n",
       "    <div class=\"colab-df-container\">\n",
       "      <div>\n",
       "<style scoped>\n",
       "    .dataframe tbody tr th:only-of-type {\n",
       "        vertical-align: middle;\n",
       "    }\n",
       "\n",
       "    .dataframe tbody tr th {\n",
       "        vertical-align: top;\n",
       "    }\n",
       "\n",
       "    .dataframe thead th {\n",
       "        text-align: right;\n",
       "    }\n",
       "</style>\n",
       "<table border=\"1\" class=\"dataframe\">\n",
       "  <thead>\n",
       "    <tr style=\"text-align: right;\">\n",
       "      <th></th>\n",
       "      <th>MODEL TYPE</th>\n",
       "      <th>DATASET TYPE</th>\n",
       "      <th>R-2 SCORE</th>\n",
       "      <th>MEAN SQUARED ERROR</th>\n",
       "      <th>MEAN ABSOLUTE ERROR</th>\n",
       "    </tr>\n",
       "  </thead>\n",
       "  <tbody>\n",
       "    <tr>\n",
       "      <th>0</th>\n",
       "      <td>SIMPLE RFR MODEL</td>\n",
       "      <td>Training Dataset</td>\n",
       "      <td>0.999176</td>\n",
       "      <td>0.844058</td>\n",
       "      <td>0.309193</td>\n",
       "    </tr>\n",
       "    <tr>\n",
       "      <th>1</th>\n",
       "      <td>SIMPLE RFR MODEL</td>\n",
       "      <td>Test Dataset</td>\n",
       "      <td>0.997044</td>\n",
       "      <td>3.084258</td>\n",
       "      <td>0.475100</td>\n",
       "    </tr>\n",
       "    <tr>\n",
       "      <th>2</th>\n",
       "      <td>RFR MODEL after HYPER PARAMETER OPTIMIZATION</td>\n",
       "      <td>Training Dataset</td>\n",
       "      <td>0.992581</td>\n",
       "      <td>7.602452</td>\n",
       "      <td>1.596773</td>\n",
       "    </tr>\n",
       "    <tr>\n",
       "      <th>3</th>\n",
       "      <td>RFR MODEL after HYPER PARAMETER OPTIMIZATION</td>\n",
       "      <td>Test Dataset</td>\n",
       "      <td>0.990845</td>\n",
       "      <td>9.550621</td>\n",
       "      <td>1.656967</td>\n",
       "    </tr>\n",
       "  </tbody>\n",
       "</table>\n",
       "</div>\n",
       "      <button class=\"colab-df-convert\" onclick=\"convertToInteractive('df-52acbad2-6c05-47af-a6b4-20049de5f6c1')\"\n",
       "              title=\"Convert this dataframe to an interactive table.\"\n",
       "              style=\"display:none;\">\n",
       "        \n",
       "  <svg xmlns=\"http://www.w3.org/2000/svg\" height=\"24px\"viewBox=\"0 0 24 24\"\n",
       "       width=\"24px\">\n",
       "    <path d=\"M0 0h24v24H0V0z\" fill=\"none\"/>\n",
       "    <path d=\"M18.56 5.44l.94 2.06.94-2.06 2.06-.94-2.06-.94-.94-2.06-.94 2.06-2.06.94zm-11 1L8.5 8.5l.94-2.06 2.06-.94-2.06-.94L8.5 2.5l-.94 2.06-2.06.94zm10 10l.94 2.06.94-2.06 2.06-.94-2.06-.94-.94-2.06-.94 2.06-2.06.94z\"/><path d=\"M17.41 7.96l-1.37-1.37c-.4-.4-.92-.59-1.43-.59-.52 0-1.04.2-1.43.59L10.3 9.45l-7.72 7.72c-.78.78-.78 2.05 0 2.83L4 21.41c.39.39.9.59 1.41.59.51 0 1.02-.2 1.41-.59l7.78-7.78 2.81-2.81c.8-.78.8-2.07 0-2.86zM5.41 20L4 18.59l7.72-7.72 1.47 1.35L5.41 20z\"/>\n",
       "  </svg>\n",
       "      </button>\n",
       "      \n",
       "  <style>\n",
       "    .colab-df-container {\n",
       "      display:flex;\n",
       "      flex-wrap:wrap;\n",
       "      gap: 12px;\n",
       "    }\n",
       "\n",
       "    .colab-df-convert {\n",
       "      background-color: #E8F0FE;\n",
       "      border: none;\n",
       "      border-radius: 50%;\n",
       "      cursor: pointer;\n",
       "      display: none;\n",
       "      fill: #1967D2;\n",
       "      height: 32px;\n",
       "      padding: 0 0 0 0;\n",
       "      width: 32px;\n",
       "    }\n",
       "\n",
       "    .colab-df-convert:hover {\n",
       "      background-color: #E2EBFA;\n",
       "      box-shadow: 0px 1px 2px rgba(60, 64, 67, 0.3), 0px 1px 3px 1px rgba(60, 64, 67, 0.15);\n",
       "      fill: #174EA6;\n",
       "    }\n",
       "\n",
       "    [theme=dark] .colab-df-convert {\n",
       "      background-color: #3B4455;\n",
       "      fill: #D2E3FC;\n",
       "    }\n",
       "\n",
       "    [theme=dark] .colab-df-convert:hover {\n",
       "      background-color: #434B5C;\n",
       "      box-shadow: 0px 1px 3px 1px rgba(0, 0, 0, 0.15);\n",
       "      filter: drop-shadow(0px 1px 2px rgba(0, 0, 0, 0.3));\n",
       "      fill: #FFFFFF;\n",
       "    }\n",
       "  </style>\n",
       "\n",
       "      <script>\n",
       "        const buttonEl =\n",
       "          document.querySelector('#df-52acbad2-6c05-47af-a6b4-20049de5f6c1 button.colab-df-convert');\n",
       "        buttonEl.style.display =\n",
       "          google.colab.kernel.accessAllowed ? 'block' : 'none';\n",
       "\n",
       "        async function convertToInteractive(key) {\n",
       "          const element = document.querySelector('#df-52acbad2-6c05-47af-a6b4-20049de5f6c1');\n",
       "          const dataTable =\n",
       "            await google.colab.kernel.invokeFunction('convertToInteractive',\n",
       "                                                     [key], {});\n",
       "          if (!dataTable) return;\n",
       "\n",
       "          const docLinkHtml = 'Like what you see? Visit the ' +\n",
       "            '<a target=\"_blank\" href=https://colab.research.google.com/notebooks/data_table.ipynb>data table notebook</a>'\n",
       "            + ' to learn more about interactive tables.';\n",
       "          element.innerHTML = '';\n",
       "          dataTable['output_type'] = 'display_data';\n",
       "          await google.colab.output.renderOutput(dataTable, element);\n",
       "          const docLink = document.createElement('div');\n",
       "          docLink.innerHTML = docLinkHtml;\n",
       "          element.appendChild(docLink);\n",
       "        }\n",
       "      </script>\n",
       "    </div>\n",
       "  </div>\n",
       "  "
      ],
      "text/plain": [
       "                                     MODEL TYPE      DATASET TYPE  R-2 SCORE  \\\n",
       "0                              SIMPLE RFR MODEL  Training Dataset   0.999176   \n",
       "1                              SIMPLE RFR MODEL      Test Dataset   0.997044   \n",
       "2  RFR MODEL after HYPER PARAMETER OPTIMIZATION  Training Dataset   0.992581   \n",
       "3  RFR MODEL after HYPER PARAMETER OPTIMIZATION      Test Dataset   0.990845   \n",
       "\n",
       "   MEAN SQUARED ERROR  MEAN ABSOLUTE ERROR  \n",
       "0            0.844058             0.309193  \n",
       "1            3.084258             0.475100  \n",
       "2            7.602452             1.596773  \n",
       "3            9.550621             1.656967  "
      ]
     },
     "execution_count": 71,
     "metadata": {},
     "output_type": "execute_result"
    }
   ],
   "source": [
    "# Summary of Random Forest Model in form of table\n",
    "prediction_columns = [\"MODEL TYPE\", \"DATASET TYPE\", \"R-2 SCORE\", \"MEAN SQUARED ERROR\", \"MEAN ABSOLUTE ERROR\"]\n",
    "df_pred = {\"MODEL TYPE\" : [\"SIMPLE RFR MODEL\", \"SIMPLE RFR MODEL\", \"RFR MODEL after HYPER PARAMETER OPTIMIZATION\", \"RFR MODEL after HYPER PARAMETER OPTIMIZATION\"],\n",
    "           \"DATASET TYPE\" : [\"Training Dataset\", \"Test Dataset\", \"Training Dataset\", \"Test Dataset\"],\n",
    "           \"R-2 SCORE\" : [r2score_train, r2score_test, r2score_hyp_train, r2score_hyp_test],\n",
    "           \"MEAN SQUARED ERROR\" : [mse_train, mse_test, mse_hyp_train, mse_hyp_test],\n",
    "           \"MEAN ABSOLUTE ERROR\" :[mae_train, mae_test, mae_hyp_train, mae_hyp_test]\n",
    "          }\n",
    "df_predictions = pd.DataFrame (df_pred)\n",
    "df_predictions"
   ]
  },
  {
   "cell_type": "markdown",
   "metadata": {
    "id": "tgr0Z-RsHHp_"
   },
   "source": [
    "### 6.3 Deep Learning Model - Artificial Neural Network (ANN)"
   ]
  },
  {
   "cell_type": "markdown",
   "metadata": {
    "id": "tVA0LvpjHHqA"
   },
   "source": [
    "A form of machine learning algorithm known as an artificial neural network (ANN) is based on the biological neural networks seen in the human brain. It is made up of a network of connected nodes, commonly referred to as artificial neurons, that collaborate to process and analyse large amounts of data.\n",
    "\n",
    "The input layer, hidden layer, and output layer are the three different kinds of layers that make up an ANN. Data from the outside environment is gathered by the input layer and fed into the network. The input data is processed by the hidden layer(s) and changed into a useful representation. Based on the input and the transformation that took place in the hidden layer, the output layer produces the network's final output.\n",
    "\n",
    "ANNs employ a technique known as forward propagation to classify or predict depending on input data. The input data is supplied into the network during forward propagation, and each neuron's weights and biases are changed to produce a forecasted output. The network's error is then determined by comparing the expected and actual outputs. Backpropagation is the method used to modify the weights and biases of each neuron using the mistake."
   ]
  },
  {
   "cell_type": "code",
   "execution_count": null,
   "metadata": {
    "id": "0cdBKa2jHHqA",
    "scrolled": true
   },
   "outputs": [],
   "source": [
    "# Installing keras and Tensorflow\n",
    "\n",
    "!pip install keras\n",
    "!pip install tensorflow"
   ]
  },
  {
   "cell_type": "code",
   "execution_count": 73,
   "metadata": {
    "id": "hlgIUzhmHHqB"
   },
   "outputs": [],
   "source": [
    "#Importing Required Libraries for ANN\n",
    "\n",
    "from sklearn.model_selection import GridSearchCV\n",
    "from sklearn.model_selection import KFold\n",
    "import keras\n",
    "from keras.models import Sequential\n",
    "from keras.layers import Dense, Dropout\n",
    "from keras.wrappers.scikit_learn import KerasRegressor"
   ]
  },
  {
   "cell_type": "markdown",
   "metadata": {
    "id": "5GrwYRH8HHqB"
   },
   "source": [
    "### 6.3.1 Simple ANN Model"
   ]
  },
  {
   "cell_type": "markdown",
   "metadata": {
    "id": "BXcIyiETHHqB"
   },
   "source": [
    "##### Training and Building Model"
   ]
  },
  {
   "cell_type": "code",
   "execution_count": null,
   "metadata": {
    "id": "U8_oH1NyHHqC",
    "scrolled": true
   },
   "outputs": [],
   "source": [
    "# Defining the ANN architecture\n",
    "ann_model1 = Sequential()\n",
    "\n",
    "# Adding hidden layers\n",
    "ann_model1.add(Dense(16, input_dim=X.shape[1], activation='relu'))\n",
    "ann_model1.add(Dense(8, activation='relu'))\n",
    "ann_model1.add(Dense(1))\n",
    "\n",
    "# Compiling the model\n",
    "ann_model1.compile(loss='mean_squared_error', optimizer='adam')\n",
    "\n",
    "# Training the model\n",
    "ann_model1.fit(x_train, y_train, epochs=25, batch_size=5)\n"
   ]
  },
  {
   "cell_type": "code",
   "execution_count": 75,
   "metadata": {
    "id": "zzq8KrMgHHqC"
   },
   "outputs": [],
   "source": [
    "  from sklearn.metrics import r2_score\n",
    "  from sklearn.metrics import mean_absolute_error"
   ]
  },
  {
   "cell_type": "code",
   "execution_count": 76,
   "metadata": {
    "colab": {
     "base_uri": "https://localhost:8080/",
     "height": 0
    },
    "id": "btzUJ8TFHHqC",
    "outputId": "ac66d886-a877-4b58-d8ea-c4a45847bcf7"
   },
   "outputs": [
    {
     "name": "stdout",
     "output_type": "stream",
     "text": [
      "876/876 [==============================] - 2s 2ms/step - loss: 6.3931\n",
      "876/876 [==============================] - 2s 2ms/step\n",
      "Mean squared error from neural net:  6.393089294433594\n",
      "Mean absolute error from neural net:  1.2928378267838851\n",
      "Accuracy score for neural net:  0.9937612500083214\n"
     ]
    }
   ],
   "source": [
    "mse_neural_train_ann1 = ann_model1.evaluate(x_train, y_train)\n",
    "y_pred_train_ann1 = ann_model1.predict(x_train)\n",
    "r2_train_ann1 = r2_score(y_train, y_pred_train_ann1)\n",
    "mae_neural_train_ann1 = mean_absolute_error(y_train, y_pred_train_ann1)\n",
    "\n",
    "print('Mean squared error from neural net: ', mse_neural_train_ann1)\n",
    "print('Mean absolute error from neural net: ', mae_neural_train_ann1)\n",
    "print('Accuracy score for neural net: ', r2_train_ann1)"
   ]
  },
  {
   "cell_type": "markdown",
   "metadata": {
    "id": "RMbAQki2HHqD"
   },
   "source": [
    "##### Model Evaluation"
   ]
  },
  {
   "cell_type": "code",
   "execution_count": 77,
   "metadata": {
    "colab": {
     "base_uri": "https://localhost:8080/",
     "height": 0
    },
    "id": "3Y7hnP8lHHqD",
    "outputId": "3a996e7d-9ce3-4fcf-a4d9-f3c8882796c5"
   },
   "outputs": [
    {
     "name": "stdout",
     "output_type": "stream",
     "text": [
      "219/219 [==============================] - 0s 2ms/step - loss: 7.1816\n",
      "219/219 [==============================] - 0s 2ms/step\n",
      "Mean squared error from neural net:  7.181583404541016\n",
      "Mean absolute error from neural net:  1.29899870972114\n",
      "Accuracy score for neural net:  0.9931161227453391\n"
     ]
    }
   ],
   "source": [
    "# Model Evaluation\n",
    "mse_neural_test_ann1 = ann_model1.evaluate(x_test, y_test)\n",
    "y_pred_test_ann1 = ann_model1.predict(x_test)\n",
    "r2_test_ann1 = r2_score(y_test, y_pred_test_ann1)\n",
    "mae_neural_test_ann1 = mean_absolute_error(y_test, y_pred_test_ann1)\n",
    "\n",
    "print('Mean squared error from neural net: ', mse_neural_test_ann1)\n",
    "print('Mean absolute error from neural net: ', mae_neural_test_ann1)\n",
    "print('Accuracy score for neural net: ', r2_test_ann1)"
   ]
  },
  {
   "cell_type": "markdown",
   "metadata": {
    "id": "HDOawTLdHHqE"
   },
   "source": [
    "There is negligible difference in the accuracy of the model in the training and testing set and therefore there is no problem of overfitting in the model and results of the model can be said to be precise."
   ]
  },
  {
   "cell_type": "markdown",
   "metadata": {
    "id": "nBDFN1iUHHqE"
   },
   "source": [
    "### 6.3.2 Hyper Parameter Optimization using Grid SearchCV"
   ]
  },
  {
   "cell_type": "markdown",
   "metadata": {
    "id": "jSbJto9vHHqF"
   },
   "source": [
    "##### Training and Building Model"
   ]
  },
  {
   "cell_type": "markdown",
   "metadata": {
    "id": "EXdmSLWAHHqF"
   },
   "source": [
    "An artificial neural network can be optimised for regression tasks using the Grid Search CV approach. Each hyperparameter is given a range of possible values, and each combination of hyperparameters is then tested using cross-validation.\n",
    "The steps for doing a grid search CV for an ANN regression task are listed below:\n",
    "*  Describe the ANN architecture: including how many layers there are, how many neurons are in each layer, and how each layer is activated.\n",
    "*  Identify the hyperparameters that need to be optimised: These include the learning rate, batch size, number of epochs, dropout rate, and regularisation strength.\n",
    "*  Specify the values that each hyperparameter can fall within: For each hyperparameter you want to optimise, pick a range of values.\n",
    "*  Build a hyperparameter grid: Set up a grid with all potential hyperparameter combinations that will be investigated.\n",
    "*  Train the ANN with each set of hyperparameters: Train the ANN using k-fold cross-validation, where k is the number of folds, for each combination of hyperparameters.\n",
    "*  Assess each hyperparameter combination's performance: After training the ANN for each combination of hyperparameters, assess the model's performance using a metric like mean squared error (MSE) or mean absolute error (MAE).\n",
    "*  Choose the most effective hyperparameters: Decide which hyperparameters perform the best on the validation set.\n",
    "*  Train the final model: For the full dataset, train the final model with the best hyperparameters."
   ]
  },
  {
   "cell_type": "markdown",
   "metadata": {
    "id": "8Qj1Cwy_Je58"
   },
   "source": [
    "Citation: Aaryandhore. “Neural Network + GridSearchCV Explanations.” Kaggle, 13 Apr. 2020, www.kaggle.com/code/aaryandhore/neural-network-gridsearchcv-explanations."
   ]
  },
  {
   "cell_type": "code",
   "execution_count": 78,
   "metadata": {
    "colab": {
     "base_uri": "https://localhost:8080/",
     "height": 0
    },
    "id": "ysih8FFTHHqF",
    "outputId": "0d8088f0-74f0-4ece-aa5e-a1d65cad3cac",
    "scrolled": true
   },
   "outputs": [
    {
     "name": "stdout",
     "output_type": "stream",
     "text": [
      "Best model parameters:  {'dropout_rate': 0.0, 'hidden_layers': 3, 'l2': 0.0, 'learning_rate': 0.01, 'neurons': 64}\n"
     ]
    }
   ],
   "source": [
    "# Hyper Parameter Optimization using Grid SearchCV\n",
    "# Defining the ANN architecture\n",
    "def create_model_ann(hidden_layers=1, neurons=32, dropout_rate=0.0, learning_rate=0.001, l2=0.0):\n",
    "    model_ann2 = Sequential()\n",
    "    model_ann2.add(Dense(neurons, input_dim=x_train.shape[1], activation='relu', kernel_regularizer=keras.regularizers.l2(l2)))\n",
    "    for i in range(hidden_layers-1):\n",
    "        model_ann2.add(Dense(neurons, activation='relu', kernel_regularizer=keras.regularizers.l2(l2)))\n",
    "        if dropout_rate > 0:\n",
    "            model_ann2.add(Dropout(dropout_rate))\n",
    "    model_ann2.add(Dense(1))\n",
    "    optimizer = keras.optimizers.Adam(lr=learning_rate)\n",
    "    model_ann2.compile(loss='mean_squared_error', optimizer=optimizer)\n",
    "    return model_ann2\n",
    "\n",
    "# Creating a KerasRegressor object\n",
    "model_ann2 = KerasRegressor(build_fn=create_model_ann, verbose=0)\n",
    "\n",
    "# Defining the hyperparameters to optimize\n",
    "param_grid = {\n",
    "    'hidden_layers': [1, 2, 3],\n",
    "    'neurons': [16, 32, 64],\n",
    "    'dropout_rate': [0.0, 0.2, 0.4],\n",
    "    'learning_rate': [0.001, 0.01, 0.1],\n",
    "    'l2': [0.0, 0.001, 0.01]\n",
    "}\n",
    "\n",
    "# Setting up a grid of hyper parameters\n",
    "grid = GridSearchCV(estimator=model_ann2, param_grid=param_grid, cv=KFold(n_splits=5), scoring='neg_mean_squared_error')\n",
    "\n",
    "# Training the ANN using each hyperparameter combination\n",
    "grid_result = grid.fit(x_train, y_train)\n",
    "\n",
    "# Printing the best hyperparameters and performance\n",
    "print(\"Best model parameters: \", grid_result.best_params_)\n",
    "\n",
    "# Training the final model using the best hyperparameters on the entire dataset\n",
    "model_ann2 = create_model_ann(**grid_result.best_params_)\n",
    "model_ann2.fit(x_train, y_train, epochs=100, batch_size=30, verbose=0)\n"
   ]
  },
  {
   "cell_type": "code",
   "execution_count": 79,
   "metadata": {
    "colab": {
     "base_uri": "https://localhost:8080/",
     "height": 0
    },
    "id": "7LBnaso5HHqG",
    "outputId": "0786dd3b-ac7d-4677-9553-25c70fbbf7a9"
   },
   "outputs": [
    {
     "name": "stdout",
     "output_type": "stream",
     "text": [
      "876/876 [==============================] - 2s 2ms/step - loss: 3.2806\n",
      "876/876 [==============================] - 1s 2ms/step\n",
      "Mean squared error from neural net:  3.2806410789489746\n",
      "Mean absolute error from neural net:  1.0075310649413765\n",
      "Accuracy score for neural net:  0.9967985588477587\n"
     ]
    }
   ],
   "source": [
    "mse_neural_train_ann2 = model_ann2.evaluate(x_train, y_train)\n",
    "y_pred_train_ann2 = model_ann2.predict(x_train)\n",
    "r2_train_ann2 = r2_score(y_train, y_pred_train_ann2)\n",
    "mae_neural_train_ann2 = mean_absolute_error(y_train, y_pred_train_ann2)\n",
    "\n",
    "print('Mean squared error from neural net: ', mse_neural_train_ann2)\n",
    "print('Mean absolute error from neural net: ', mae_neural_train_ann2)\n",
    "print('Accuracy score for neural net: ', r2_train_ann2)"
   ]
  },
  {
   "cell_type": "markdown",
   "metadata": {
    "id": "OpgexLBLHHqH"
   },
   "source": [
    "##### Model Evaluation"
   ]
  },
  {
   "cell_type": "code",
   "execution_count": 80,
   "metadata": {
    "colab": {
     "base_uri": "https://localhost:8080/",
     "height": 0
    },
    "id": "l0jfNcxZHHqH",
    "outputId": "3ee04858-c964-4db9-c59b-eb3b15d64245"
   },
   "outputs": [
    {
     "name": "stdout",
     "output_type": "stream",
     "text": [
      "219/219 [==============================] - 0s 2ms/step - loss: 5.0083\n",
      "219/219 [==============================] - 0s 2ms/step\n",
      "Mean squared error from neural net:  5.0082807540893555\n",
      "Mean absolute error from neural net:  1.0414120590602896\n",
      "Accuracy score for neural net:  0.9951993317181336\n"
     ]
    }
   ],
   "source": [
    "# Model Evaluation\n",
    "mse_neural_test_ann2 = model_ann2.evaluate(x_test, y_test)\n",
    "y_pred_test_ann2 = model_ann2.predict(x_test)\n",
    "r2_test_ann2 = r2_score(y_test, y_pred_test_ann2)\n",
    "mae_neural_test_ann2 = mean_absolute_error(y_test, y_pred_test_ann2)\n",
    "\n",
    "print('Mean squared error from neural net: ', mse_neural_test_ann2)\n",
    "print('Mean absolute error from neural net: ', mae_neural_test_ann2)\n",
    "print('Accuracy score for neural net: ', r2_test_ann2)"
   ]
  },
  {
   "cell_type": "markdown",
   "metadata": {
    "id": "wVLz5TEfHHqI"
   },
   "source": [
    "There is negligible difference in the accuracy of the model in the training and testing set and therefore there is no problem of overfitting in the model and results of the model can be said to be precise."
   ]
  },
  {
   "cell_type": "markdown",
   "metadata": {
    "id": "eY9kDWDwHHqI"
   },
   "source": [
    "##### SUMMARY Of Deep Learning Model - ANN Model"
   ]
  },
  {
   "cell_type": "code",
   "execution_count": 81,
   "metadata": {
    "colab": {
     "base_uri": "https://localhost:8080/",
     "height": 174
    },
    "id": "-gH3ksDbHHqI",
    "outputId": "ba4b7178-72ac-40e3-cb23-e0a5b1d5a011"
   },
   "outputs": [
    {
     "data": {
      "text/html": [
       "\n",
       "  <div id=\"df-e25549e5-a43e-4e69-ab48-07c5ce7c87a1\">\n",
       "    <div class=\"colab-df-container\">\n",
       "      <div>\n",
       "<style scoped>\n",
       "    .dataframe tbody tr th:only-of-type {\n",
       "        vertical-align: middle;\n",
       "    }\n",
       "\n",
       "    .dataframe tbody tr th {\n",
       "        vertical-align: top;\n",
       "    }\n",
       "\n",
       "    .dataframe thead th {\n",
       "        text-align: right;\n",
       "    }\n",
       "</style>\n",
       "<table border=\"1\" class=\"dataframe\">\n",
       "  <thead>\n",
       "    <tr style=\"text-align: right;\">\n",
       "      <th></th>\n",
       "      <th>MODEL TYPE</th>\n",
       "      <th>DATASET TYPE</th>\n",
       "      <th>R-2 SCORE</th>\n",
       "      <th>MEAN SQUARED ERROR</th>\n",
       "      <th>MEAN ABSOLUTE ERROR</th>\n",
       "    </tr>\n",
       "  </thead>\n",
       "  <tbody>\n",
       "    <tr>\n",
       "      <th>0</th>\n",
       "      <td>SIMPLE ANN MODEL</td>\n",
       "      <td>Training Dataset</td>\n",
       "      <td>0.993761</td>\n",
       "      <td>6.393089</td>\n",
       "      <td>1.292838</td>\n",
       "    </tr>\n",
       "    <tr>\n",
       "      <th>1</th>\n",
       "      <td>SIMPLE ANN MODEL</td>\n",
       "      <td>Test Dataset</td>\n",
       "      <td>0.993116</td>\n",
       "      <td>7.181583</td>\n",
       "      <td>1.298999</td>\n",
       "    </tr>\n",
       "    <tr>\n",
       "      <th>2</th>\n",
       "      <td>ANN MODEL after HYPER PARAMETER OPTIMIZATION</td>\n",
       "      <td>Training Dataset</td>\n",
       "      <td>0.996799</td>\n",
       "      <td>3.280641</td>\n",
       "      <td>1.007531</td>\n",
       "    </tr>\n",
       "    <tr>\n",
       "      <th>3</th>\n",
       "      <td>ANN MODEL after HYPER PARAMETER OPTIMIZATION</td>\n",
       "      <td>Test Dataset</td>\n",
       "      <td>0.995199</td>\n",
       "      <td>5.008281</td>\n",
       "      <td>1.041412</td>\n",
       "    </tr>\n",
       "  </tbody>\n",
       "</table>\n",
       "</div>\n",
       "      <button class=\"colab-df-convert\" onclick=\"convertToInteractive('df-e25549e5-a43e-4e69-ab48-07c5ce7c87a1')\"\n",
       "              title=\"Convert this dataframe to an interactive table.\"\n",
       "              style=\"display:none;\">\n",
       "        \n",
       "  <svg xmlns=\"http://www.w3.org/2000/svg\" height=\"24px\"viewBox=\"0 0 24 24\"\n",
       "       width=\"24px\">\n",
       "    <path d=\"M0 0h24v24H0V0z\" fill=\"none\"/>\n",
       "    <path d=\"M18.56 5.44l.94 2.06.94-2.06 2.06-.94-2.06-.94-.94-2.06-.94 2.06-2.06.94zm-11 1L8.5 8.5l.94-2.06 2.06-.94-2.06-.94L8.5 2.5l-.94 2.06-2.06.94zm10 10l.94 2.06.94-2.06 2.06-.94-2.06-.94-.94-2.06-.94 2.06-2.06.94z\"/><path d=\"M17.41 7.96l-1.37-1.37c-.4-.4-.92-.59-1.43-.59-.52 0-1.04.2-1.43.59L10.3 9.45l-7.72 7.72c-.78.78-.78 2.05 0 2.83L4 21.41c.39.39.9.59 1.41.59.51 0 1.02-.2 1.41-.59l7.78-7.78 2.81-2.81c.8-.78.8-2.07 0-2.86zM5.41 20L4 18.59l7.72-7.72 1.47 1.35L5.41 20z\"/>\n",
       "  </svg>\n",
       "      </button>\n",
       "      \n",
       "  <style>\n",
       "    .colab-df-container {\n",
       "      display:flex;\n",
       "      flex-wrap:wrap;\n",
       "      gap: 12px;\n",
       "    }\n",
       "\n",
       "    .colab-df-convert {\n",
       "      background-color: #E8F0FE;\n",
       "      border: none;\n",
       "      border-radius: 50%;\n",
       "      cursor: pointer;\n",
       "      display: none;\n",
       "      fill: #1967D2;\n",
       "      height: 32px;\n",
       "      padding: 0 0 0 0;\n",
       "      width: 32px;\n",
       "    }\n",
       "\n",
       "    .colab-df-convert:hover {\n",
       "      background-color: #E2EBFA;\n",
       "      box-shadow: 0px 1px 2px rgba(60, 64, 67, 0.3), 0px 1px 3px 1px rgba(60, 64, 67, 0.15);\n",
       "      fill: #174EA6;\n",
       "    }\n",
       "\n",
       "    [theme=dark] .colab-df-convert {\n",
       "      background-color: #3B4455;\n",
       "      fill: #D2E3FC;\n",
       "    }\n",
       "\n",
       "    [theme=dark] .colab-df-convert:hover {\n",
       "      background-color: #434B5C;\n",
       "      box-shadow: 0px 1px 3px 1px rgba(0, 0, 0, 0.15);\n",
       "      filter: drop-shadow(0px 1px 2px rgba(0, 0, 0, 0.3));\n",
       "      fill: #FFFFFF;\n",
       "    }\n",
       "  </style>\n",
       "\n",
       "      <script>\n",
       "        const buttonEl =\n",
       "          document.querySelector('#df-e25549e5-a43e-4e69-ab48-07c5ce7c87a1 button.colab-df-convert');\n",
       "        buttonEl.style.display =\n",
       "          google.colab.kernel.accessAllowed ? 'block' : 'none';\n",
       "\n",
       "        async function convertToInteractive(key) {\n",
       "          const element = document.querySelector('#df-e25549e5-a43e-4e69-ab48-07c5ce7c87a1');\n",
       "          const dataTable =\n",
       "            await google.colab.kernel.invokeFunction('convertToInteractive',\n",
       "                                                     [key], {});\n",
       "          if (!dataTable) return;\n",
       "\n",
       "          const docLinkHtml = 'Like what you see? Visit the ' +\n",
       "            '<a target=\"_blank\" href=https://colab.research.google.com/notebooks/data_table.ipynb>data table notebook</a>'\n",
       "            + ' to learn more about interactive tables.';\n",
       "          element.innerHTML = '';\n",
       "          dataTable['output_type'] = 'display_data';\n",
       "          await google.colab.output.renderOutput(dataTable, element);\n",
       "          const docLink = document.createElement('div');\n",
       "          docLink.innerHTML = docLinkHtml;\n",
       "          element.appendChild(docLink);\n",
       "        }\n",
       "      </script>\n",
       "    </div>\n",
       "  </div>\n",
       "  "
      ],
      "text/plain": [
       "                                     MODEL TYPE      DATASET TYPE  R-2 SCORE  \\\n",
       "0                              SIMPLE ANN MODEL  Training Dataset   0.993761   \n",
       "1                              SIMPLE ANN MODEL      Test Dataset   0.993116   \n",
       "2  ANN MODEL after HYPER PARAMETER OPTIMIZATION  Training Dataset   0.996799   \n",
       "3  ANN MODEL after HYPER PARAMETER OPTIMIZATION      Test Dataset   0.995199   \n",
       "\n",
       "   MEAN SQUARED ERROR  MEAN ABSOLUTE ERROR  \n",
       "0            6.393089             1.292838  \n",
       "1            7.181583             1.298999  \n",
       "2            3.280641             1.007531  \n",
       "3            5.008281             1.041412  "
      ]
     },
     "execution_count": 81,
     "metadata": {},
     "output_type": "execute_result"
    }
   ],
   "source": [
    "# Summary of ANN in form of table\n",
    "prediction_columns = [\"MODEL TYPE\", \"DATASET TYPE\", \"R-2 SCORE\", \"MEAN SQUARED ERROR\", \"MEAN ABSOLUTE ERROR\"]\n",
    "df_pred = {\"MODEL TYPE\" : [\"SIMPLE ANN MODEL\", \"SIMPLE ANN MODEL\", \"ANN MODEL after HYPER PARAMETER OPTIMIZATION\", \"ANN MODEL after HYPER PARAMETER OPTIMIZATION\"],\n",
    "           \"DATASET TYPE\" : [\"Training Dataset\", \"Test Dataset\", \"Training Dataset\", \"Test Dataset\"],\n",
    "           \"R-2 SCORE\" : [r2_train_ann1, r2_test_ann1, r2_train_ann2, r2_test_ann2],\n",
    "           \"MEAN SQUARED ERROR\" : [mse_neural_train_ann1, mse_neural_test_ann1, mse_neural_train_ann2, mse_neural_test_ann2],\n",
    "           \"MEAN ABSOLUTE ERROR\" :[mae_neural_train_ann1, mae_neural_test_ann1, mae_neural_train_ann2, mae_neural_test_ann2]\n",
    "          }\n",
    "df_predictions = pd.DataFrame (df_pred)\n",
    "df_predictions"
   ]
  },
  {
   "cell_type": "markdown",
   "metadata": {
    "id": "3ZuGyBXrHHqJ"
   },
   "source": [
    "## 7. Conclusion"
   ]
  },
  {
   "cell_type": "markdown",
   "metadata": {
    "id": "w_BWFDMHHHqJ"
   },
   "source": [
    "To make Comparision of the performance of models, let's compare the R2 Score of models after hyper parameter optimization by plotting the bar graph:"
   ]
  },
  {
   "cell_type": "code",
   "execution_count": 82,
   "metadata": {
    "colab": {
     "base_uri": "https://localhost:8080/",
     "height": 449
    },
    "id": "R_Tw7NN2HHqK",
    "outputId": "79d4036b-addd-48c3-e39a-2c19acb3c9a1"
   },
   "outputs": [
    {
     "data": {
      "image/png": "[encoded data removed]",
      "text/plain": [
       "<Figure size 640x480 with 1 Axes>"
      ]
     },
     "metadata": {},
     "output_type": "display_data"
    }
   ],
   "source": [
    "# Comparision of the performance of models based on R2 Score\n",
    "Name = ['Linear Regression', 'Random Forest', 'ANN']\n",
    "Score = [r2scorehyptest, r2score_hyp_test, r2_test_ann2]\n",
    "\n",
    "# Plotting bar graphs for comparision\n",
    "axis = sns.barplot(x = Name , y = Score, data = data)\n",
    "axis.set(xlabel='Classifier', ylabel='Accuracy')\n",
    "\n",
    "for p in axis.patches:\n",
    "    height = p.get_height()\n",
    "    axis.text(p.get_x() + p.get_width()/2, height + 0.005, '{:1.4f}'.format(height), ha=\"center\") \n",
    "\n",
    "# Displaying Bar charts\n",
    "plt.show()"
   ]
  },
  {
   "cell_type": "markdown",
   "metadata": {
    "id": "fcXT6NX9HHqK"
   },
   "source": [
    "The R2 Score has negligible differences among models. To find the best model let's plot bar chart for MSE Comparision also.\n",
    "To make Comparision of the MSE of models, let's compare the MSE of models after hyper parameter optimization by plotting the bar graph:"
   ]
  },
  {
   "cell_type": "code",
   "execution_count": 83,
   "metadata": {
    "colab": {
     "base_uri": "https://localhost:8080/",
     "height": 449
    },
    "id": "zcAmQ3mZHHqL",
    "outputId": "2299416d-7ec8-4926-fe54-6ada70b2fc43"
   },
   "outputs": [
    {
     "data": {
      "image/png": "[encoded data removed]",
      "text/plain": [
       "<Figure size 640x480 with 1 Axes>"
      ]
     },
     "metadata": {},
     "output_type": "display_data"
    }
   ],
   "source": [
    "# Comparision of the performance of models based on MSE\n",
    "MSE = [msehyptest, mse_hyp_test, mse_neural_test_ann2]\n",
    "\n",
    "# Plotting bar graphs for comparision\n",
    "axis = sns.barplot(x = Name , y = MSE, data = data)\n",
    "axis.set(xlabel='Classifier', ylabel='MSE')\n",
    "\n",
    "for p in axis.patches:\n",
    "    height = p.get_height()\n",
    "    axis.text(p.get_x() + p.get_width()/2, height + 0.005, '{:1.4f}'.format(height), ha=\"center\") \n",
    "\n",
    "# Displaying Bar charts\n",
    "plt.show()"
   ]
  },
  {
   "cell_type": "markdown",
   "metadata": {
    "id": "vlH3FoZRHHqL"
   },
   "source": [
    "From the above graphs, it can be seen:\n",
    "* ANN has highest R2 score and lowest MSE among all models.\n",
    "* Although, R2 score is significantly similar for all models; the difference in other metric MSE points out that ANN is better than other two.\n",
    "* The high R2 score implies that these models predict the energy consumption precisely and accurately. Also, there is no overfitting of data as explained above in modelling section. It can imply that right set of features are selected in feature extraction and steps of data preparation and data pre processing have prepared the data well for modelling.\n",
    "\n",
    "It can be concluded that ANN performs better than other models and predict the energy consumption precisely and accurately."
   ]
  },
  {
   "cell_type": "markdown",
   "metadata": {
    "id": "C4n1JEqFMHDx"
   },
   "source": [
    "#### Graphs/Plots for Best Performing Model - ANN "
   ]
  },
  {
   "cell_type": "markdown",
   "metadata": {
    "id": "5LPNoVqIRaqP"
   },
   "source": [
    "#### Plot 1: Feature importance of the model"
   ]
  },
  {
   "cell_type": "code",
   "execution_count": 119,
   "metadata": {
    "id": "2_rViwFQJwPH"
   },
   "outputs": [],
   "source": [
    "# Printing columns of the dataset\n",
    "X.columns\n",
    "colors = [\"Green\", \"Blue\", \"Red\"]\n",
    "sns.set_palette(colors)"
   ]
  },
  {
   "cell_type": "markdown",
   "metadata": {
    "id": "Eq_k_KlFNmDz"
   },
   "source": [
    "The features with their index are: <br>\n",
    "0 - Lagging_Current_Reactive.Power_kVarh <br>\n",
    "1 - CO2(tCO2) <br>\n",
    "2 - Lagging_Current_Power_Factor <br>\n",
    "3 - WeekStatus <br>\n",
    "4 - Load_Type <br>"
   ]
  },
  {
   "cell_type": "markdown",
   "metadata": {
    "id": "N4k_Zl-P3rny"
   },
   "source": [
    "Citation: “Feature Importance Chart in Neural Network Using Keras in Python.” Stack Overflow, stackoverflow.com/questions/45361559/feature-importance-chart-in-neural-network-using-keras-in-python."
   ]
  },
  {
   "cell_type": "code",
   "execution_count": 128,
   "metadata": {
    "id": "zp5sjkPKFnDA"
   },
   "outputs": [],
   "source": [
    "# extracting the weights of the first layer\n",
    "weights = model_ann2.layers[0].get_weights()[0]\n",
    "\n",
    "# calculating the importance of each feature based on its weight\n",
    "importance = np.sum(np.abs(weights), axis=1)\n"
   ]
  },
  {
   "cell_type": "code",
   "execution_count": 129,
   "metadata": {
    "colab": {
     "base_uri": "https://localhost:8080/",
     "height": 467
    },
    "id": "faSZkTkr33JT",
    "outputId": "e31944b5-1dc3-4291-8079-cc7a6bfc07f8"
   },
   "outputs": [
    {
     "data": {
      "image/png": "[encoded data removed]",
      "text/plain": [
       "<Figure size 640x480 with 1 Axes>"
      ]
     },
     "metadata": {},
     "output_type": "display_data"
    }
   ],
   "source": [
    "# ploting the feature importance graph\n",
    "plt.bar(range(X.shape[1]), importance)\n",
    "plt.xticks(range(X.shape[1]), rotation=90)\n",
    "plt.xlabel('Input Features')\n",
    "plt.ylabel('Importance')\n",
    "plt.title('Feature Importance for ANN Model')\n",
    "plt.show()"
   ]
  },
  {
   "cell_type": "markdown",
   "metadata": {
    "id": "MbFUmt45OZOF"
   },
   "source": [
    "In the model building Feature 2 - Lagging_Current_Power_Factor has highest importance followed by Feature 0 (Lagging_Current_Reactive.Power_kVarh) and Feature 1 (CO2(tCO2)). Importance of Feature 4 (WeekStatus) is lower than importance of Feature 0, 1, 2 and Feature 3 has least importance"
   ]
  },
  {
   "cell_type": "markdown",
   "metadata": {
    "id": "r0nvaQh6R22u"
   },
   "source": [
    "#### Plot 2 - Plotting True vs Predicted value for the model"
   ]
  },
  {
   "cell_type": "code",
   "execution_count": 121,
   "metadata": {
    "colab": {
     "base_uri": "https://localhost:8080/",
     "height": 489
    },
    "id": "1mfscDlo_mYD",
    "outputId": "4daf0898-2560-4509-d2d4-ad03ca988e6d"
   },
   "outputs": [
    {
     "name": "stdout",
     "output_type": "stream",
     "text": [
      "219/219 [==============================] - 0s 2ms/step\n"
     ]
    },
    {
     "data": {
      "image/png": "[encoded data removed]",
      "text/plain": [
       "<Figure size 640x480 with 1 Axes>"
      ]
     },
     "metadata": {},
     "output_type": "display_data"
    }
   ],
   "source": [
    "y_true = y_test\n",
    "y_pred = model_ann2.predict(x_test).flatten()\n",
    "plt.scatter(y_true, y_pred)\n",
    "plt.xlabel('True values')\n",
    "plt.ylabel('Predicted values')\n",
    "plt.title('ANN model - true vs. predicted values (testing data)')\n",
    "plt.show()"
   ]
  },
  {
   "cell_type": "markdown",
   "metadata": {
    "id": "ApnlNpYN0ANe"
   },
   "source": [
    "The scatter plot of true vs. predicted values reveals a clear linear relationship between the two, showing that the model predicts the target variable accurately. The points are near to the diagonal line, indicating that the anticipated values are accurate. "
   ]
  },
  {
   "cell_type": "markdown",
   "metadata": {
    "id": "8O9V9R4bQKI4"
   },
   "source": [
    "#### Plot 3: Residual Plot "
   ]
  },
  {
   "cell_type": "code",
   "execution_count": 127,
   "metadata": {
    "colab": {
     "base_uri": "https://localhost:8080/",
     "height": 472
    },
    "id": "oCNW7D9DHCQb",
    "outputId": "b3393562-54e2-42b3-b805-0ab8ff2b33e3"
   },
   "outputs": [
    {
     "data": {
      "image/png": "[encoded data removed]",
      "text/plain": [
       "<Figure size 640x480 with 1 Axes>"
      ]
     },
     "metadata": {},
     "output_type": "display_data"
    }
   ],
   "source": [
    "residuals = y_test - y_pred\n",
    "plt.scatter(y_pred, residuals)\n",
    "plt.axhline(y=0, color='y', linestyle='-')\n",
    "plt.xlabel('Predicted Value')\n",
    "plt.ylabel('Residuals')\n",
    "plt.title('Residual Plot')\n",
    "plt.show()"
   ]
  },
  {
   "cell_type": "markdown",
   "metadata": {
    "id": "LqgXZXgE2PHh"
   },
   "source": [
    "The scatter plot of predicted values vs residuals does not reveal any discernible pattern, and the residual values are randomly distributed around the horizontal line at y=0. There is no evident funnel shape or heteroscedasticity in the scatter plot, showing that the model performs consistently across the range of anticipated values."
   ]
  },
  {
   "cell_type": "markdown",
   "metadata": {
    "id": "U8sP-MWT0h6L"
   },
   "source": []
  },
  {
   "cell_type": "markdown",
   "metadata": {
    "id": "3thYfmgtyZLq"
   },
   "source": [
    "#### Plot 4: Histogram showing distribution plot of residuals"
   ]
  },
  {
   "cell_type": "code",
   "execution_count": 126,
   "metadata": {
    "colab": {
     "base_uri": "https://localhost:8080/",
     "height": 472
    },
    "id": "CfS9pfPLsQjq",
    "outputId": "34c95a06-f5f4-4d7a-9eab-e79109176ff3"
   },
   "outputs": [
    {
     "data": {
      "image/png": "[encoded data removed]",
      "text/plain": [
       "<Figure size 640x480 with 1 Axes>"
      ]
     },
     "metadata": {},
     "output_type": "display_data"
    }
   ],
   "source": [
    "sns.histplot(residuals, kde=True)\n",
    "plt.xlabel('Residuals')\n",
    "plt.title('Distribution plot of residuals')\n",
    "plt.show()"
   ]
  },
  {
   "cell_type": "markdown",
   "metadata": {
    "id": "Bf91eyFtzWhr"
   },
   "source": [
    "The residual plot shows it is good to use ANN model as the distribution plot of residuals have a bell-shaped curve, indicating that the residuals are normally distributed around zero. There are no obvious skewness or outliers in the plot."
   ]
  }
 ],
 "metadata": {
  "colab": {
   "provenance": []
  },
  "kernelspec": {
   "display_name": "Python 3 (ipykernel)",
   "language": "python",
   "name": "python3"
  },
  "language_info": {
   "codemirror_mode": {
    "name": "ipython",
    "version": 3
   },
   "file_extension": ".py",
   "mimetype": "text/x-python",
   "name": "python",
   "nbconvert_exporter": "python",
   "pygments_lexer": "ipython3",
   "version": "3.9.13"
  }
 },
 "nbformat": 4,
 "nbformat_minor": 1
}
